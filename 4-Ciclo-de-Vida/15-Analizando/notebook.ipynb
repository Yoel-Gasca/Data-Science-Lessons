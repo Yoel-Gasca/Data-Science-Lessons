{
 "cells": [
  {
   "cell_type": "markdown",
   "metadata": {},
   "source": [
    "# Análisis de datos\n",
    "Ejemplos de las funciones de Pandas mencionadas en la lección."
   ]
  },
  {
   "cell_type": "code",
   "execution_count": 1,
   "metadata": {},
   "outputs": [],
   "source": [
    "import pandas as pd\n",
    "import glob\n",
    "\n",
    "#Loading the dataset\n",
    "path = '../../data/emails.csv'\n",
    "email_df = pd.read_csv(path)"
   ]
  },
  {
   "cell_type": "code",
   "execution_count": 2,
   "metadata": {},
   "outputs": [
    {
     "name": "stdout",
     "output_type": "stream",
     "text": [
      "              the          to         ect         and         for          of  \\\n",
      "count  406.000000  406.000000  406.000000  406.000000  406.000000  406.000000   \n",
      "mean     7.022167    6.519704    4.948276    3.059113    3.502463    2.662562   \n",
      "std     10.945522    9.801907    9.293820    6.267806    4.901372    5.443939   \n",
      "min      0.000000    0.000000    1.000000    0.000000    0.000000    0.000000   \n",
      "25%      1.000000    1.000000    1.000000    0.000000    1.000000    0.000000   \n",
      "50%      3.000000    3.000000    2.000000    1.000000    2.000000    1.000000   \n",
      "75%      9.000000    7.750000    4.000000    3.000000    4.750000    3.000000   \n",
      "max     99.000000   88.000000   79.000000   69.000000   39.000000   57.000000   \n",
      "\n",
      "                a         you          in          on          is        this  \\\n",
      "count  406.000000  406.000000  406.000000  406.000000  406.000000  406.000000   \n",
      "mean    57.017241    2.394089   10.817734   11.591133    5.901478    1.485222   \n",
      "std     78.868243    4.067015   19.050972   16.407175    8.793103    2.912473   \n",
      "min      0.000000    0.000000    0.000000    0.000000    0.000000    0.000000   \n",
      "25%     15.000000    0.000000    1.250000    3.000000    1.000000    0.000000   \n",
      "50%     29.000000    1.000000    5.000000    6.000000    3.000000    0.000000   \n",
      "75%     61.000000    3.000000   12.000000   13.000000    7.000000    2.000000   \n",
      "max    843.000000   31.000000  223.000000  125.000000   61.000000   24.000000   \n",
      "\n",
      "                i          be        that        will  \n",
      "count  406.000000  406.000000  406.000000  406.000000  \n",
      "mean    47.155172    2.950739    1.034483    0.955665  \n",
      "std     71.043009    4.297865    1.904846    2.042271  \n",
      "min      0.000000    0.000000    0.000000    0.000000  \n",
      "25%     11.000000    1.000000    0.000000    0.000000  \n",
      "50%     24.000000    1.000000    0.000000    0.000000  \n",
      "75%     50.750000    3.000000    1.000000    1.000000  \n",
      "max    754.000000   40.000000   14.000000   24.000000  \n"
     ]
    }
   ],
   "source": [
    "# Uso de Describir en el conjunto de datos de correo electrónico\n",
    "print(email_df.describe())"
   ]
  },
  {
   "cell_type": "code",
   "execution_count": 3,
   "metadata": {},
   "outputs": [
    {
     "name": "stdout",
     "output_type": "stream",
     "text": [
      "     Email No.  the  to  ect  and  for  of    a  you  in  on  is  this    i  \\\n",
      "139  Email 140    2   4    1    2    1   0   41    0  11   8   3     0   27   \n",
      "113  Email 114   24  11   23    2   11   2  110    6  39  27  13     0  105   \n",
      "81    Email 82    0   0    1    0    0   0    5    0   0   1   1     0    9   \n",
      "364  Email 365    7   5    2   11    6   2   80    5  21  14   5     0   60   \n",
      "238  Email 239   13   9    1   13    5   5   87    0  20  36   6     0   50   \n",
      "368  Email 369    5   6    2    1    1   0   49    0   7   3   1     0   27   \n",
      "7      Email 8    0   2    2    3    1   2   21    6   2   6   2     0   28   \n",
      "62    Email 63    5   4    8    4    5   1   46    1  12  17   3     0   54   \n",
      "161  Email 162    2   3    1    4    2   0   28    3   6   4   1     0   16   \n",
      "143  Email 144   14  12    7    6    4   2  122    5  13  19  15     5   78   \n",
      "\n",
      "     be  that  will  \n",
      "139   2     0     1  \n",
      "113   4     6     1  \n",
      "81    1     0     0  \n",
      "364   5     2     1  \n",
      "238  12     1     1  \n",
      "368   2     0     0  \n",
      "7     1     0     1  \n",
      "62    0     0     1  \n",
      "161   2     1     1  \n",
      "143   7     2     3  \n"
     ]
    }
   ],
   "source": [
    "# Muestreo de 10 correos electrónicos\n",
    "print(email_df.sample(10))"
   ]
  },
  {
   "cell_type": "code",
   "execution_count": 4,
   "metadata": {},
   "outputs": [
    {
     "name": "stdout",
     "output_type": "stream",
     "text": [
      "      Email No.  the  to  ect  and  for  of    a  you  in  on  is  this   i  \\\n",
      "1       Email 2    8  13   24    6    6   2  102    1  18  21  13     0  61   \n",
      "3       Email 4    0   5   22    0    5   1   51    2   1   5   9     2  16   \n",
      "5       Email 6    4   5    1    4    2   3   45    1  16  12   8     1  52   \n",
      "7       Email 8    0   2    2    3    1   2   21    6   2   6   2     0  28   \n",
      "13     Email 14    4   5    7    1    5   1   37    1   8   8   6     1  43   \n",
      "..          ...  ...  ..  ...  ...  ...  ..  ...  ...  ..  ..  ..   ...  ..   \n",
      "390  Email 5157    4  13    1    0    3   1   48    2   8  26   9     1  45   \n",
      "393  Email 5160    2  13    1    0    2   1   38    2   7  24   6     1  34   \n",
      "396  Email 5163    2   3    1    2    1   2   32    0   7   3   2     0  26   \n",
      "404  Email 5171    2   7    1    0    2   1   28    2   8  11   7     1  39   \n",
      "405  Email 5172   22  24    5    1    6   5  148    8  23  13   5     4  99   \n",
      "\n",
      "     be  that  will  \n",
      "1     4     2     0  \n",
      "3     2     0     0  \n",
      "5     2     0     0  \n",
      "7     1     0     1  \n",
      "13    1     0     1  \n",
      "..   ..   ...   ...  \n",
      "390   1     0     0  \n",
      "393   1     0     0  \n",
      "396   3     0     0  \n",
      "404   1     0     0  \n",
      "405   6     4     1  \n",
      "\n",
      "[169 rows x 17 columns]\n"
     ]
    }
   ],
   "source": [
    "# Devuelve filas en las que hay más apariciones de \"a\" que de \"el\"\n",
    "print(email_df.query('the < to'))"
   ]
  },
  {
   "cell_type": "code",
   "execution_count": null,
   "metadata": {},
   "outputs": [],
   "source": []
  }
 ],
 "metadata": {
  "kernelspec": {
   "display_name": "base",
   "language": "python",
   "name": "python3"
  },
  "language_info": {
   "codemirror_mode": {
    "name": "ipython",
    "version": 3
   },
   "file_extension": ".py",
   "mimetype": "text/x-python",
   "name": "python",
   "nbconvert_exporter": "python",
   "pygments_lexer": "ipython3",
   "version": "3.11.5"
  }
 },
 "nbformat": 4,
 "nbformat_minor": 2
}
