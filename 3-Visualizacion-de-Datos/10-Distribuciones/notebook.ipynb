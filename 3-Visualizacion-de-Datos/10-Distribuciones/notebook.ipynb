{
 "cells": [
  {
   "cell_type": "markdown",
   "metadata": {},
   "source": [
    "# Visualización de Distribuciones\n",
    "\n",
    "## Explora el conjunto de datos sobre aves\n",
    "Otra forma de profundizar en los datos es observar su distribución, o cómo se organizan los datos a lo largo de un eje. Quizás, por ejemplo, te gustaría conocer la distribución general para este conjunto de datos, de la envergadura máxima o la masa corporal máxima de las aves de Minnesota.\n",
    "\n",
    "Descubramos algunos hechos sobre las distribuciones de los datos en este conjunto de datos. En el archivo notebook.ipynb en la raíz de la carpeta de esta lección, importa Pandas, Matplotlib, y tus datos:"
   ]
  },
  {
   "cell_type": "code",
   "execution_count": null,
   "metadata": {},
   "outputs": [],
   "source": []
  }
 ],
 "metadata": {
  "language_info": {
   "name": "python"
  }
 },
 "nbformat": 4,
 "nbformat_minor": 2
}
