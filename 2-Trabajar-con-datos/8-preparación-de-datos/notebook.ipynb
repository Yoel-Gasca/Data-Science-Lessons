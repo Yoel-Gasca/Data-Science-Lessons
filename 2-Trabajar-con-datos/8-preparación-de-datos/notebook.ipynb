{
  "cells": [
    {
      "cell_type": "markdown",
      "metadata": {
        "id": "rQ8UhzFpgRra"
      },
      "source": [
        "# Data Preparation\n",
        "\n",
        "[Fuente original de Notebook de *Data Science: Introduction to Machine Learning for Data Science Python and Machine Learning Studio de Lee Stott*](https://github.com/leestott/intro-Datascience/blob/master/Course%20Materials/4-Cleaning_and_Manipulating-Reference.ipynb)\n",
        "\n",
        "## Exploring `DataFrame` information\n",
        "\n",
        "> **Objetivo de aprendizaje:** Al final de esta subsección, debería sentirse cómodo encontrando información general sobre los datos almacenados en los DataFrames de pandas.\n",
        "\n",
        "Una vez que haya cargado sus datos en pandas, lo más probable es que estén en un`DataFrame`.Sin embargo, si el conjunto de datos de su 'DataFrame' tiene 60.000 filas y 400 columnas, ¿cómo puede empezar a tener una idea de con qué está trabajando? Afortunadamente, pandas proporciona algunas herramientas convenientes para ver rápidamente la información general sobre un `DataFrame` además de las primeras y últimas filas.\n",
        "\n",
        "Para explorar esta funcionalidad, importaremos la biblioteca scikit-learn de Python y utilizaremos un conjunto de datos icónico que todo científico de datos ha visto cientos de veces: el conjunto de datos *Iris* del biólogo británico Ronald Fisher utilizado en su artículo de 1936 \"El uso de múltiples mediciones en problemas taxonómicos\":"
      ]
    },
    {
      "cell_type": "code",
      "execution_count": 1,
      "metadata": {
        "collapsed": true,
        "id": "hB1RofhdgRrp",
        "trusted": false
      },
      "outputs": [],
      "source": [
        "import pandas as pd\n",
        "from sklearn.datasets import load_iris\n",
        "\n",
        "iris = load_iris()\n",
        "iris_df = pd.DataFrame(data=iris['data'], columns=iris['feature_names'])"
      ]
    },
    {
      "cell_type": "markdown",
      "metadata": {
        "id": "AGA0A_Y8hMdz"
      },
      "source": [
        "### `DataFrame.shape`\n",
        "Hemos cargado el Iris Dataset en la variable`iris_df`. Antes de sumergirnos en los datos, sería valioso saber el número de puntos de datos que tenemos y el tamaño total del conjunto de datos. Es útil observar el volumen de datos con el que estamos tratando."
      ]
    },
    {
      "cell_type": "code",
      "execution_count": 2,
      "metadata": {
        "colab": {
          "base_uri": "https://localhost:8080/"
        },
        "id": "LOe5jQohhulf",
        "outputId": "fb0577ac-3b4a-4623-cb41-20e1b264b3e9"
      },
      "outputs": [
        {
          "data": {
            "text/plain": [
              "(150, 4)"
            ]
          },
          "execution_count": 2,
          "metadata": {},
          "output_type": "execute_result"
        }
      ],
      "source": [
        "iris_df.shape"
      ]
    },
    {
      "cell_type": "markdown",
      "metadata": {
        "id": "smE7AGzOhxk2"
      },
      "source": [
        "Por lo tanto, se trata de 150 filas y 4 columnas de datos. Cada fila representa un punto de datos y cada columna representa una única entidad asociada al marco de datos. Básicamente, hay 150 puntos de datos que contienen 4 características cada uno.\n",
        "\n",
        "`shape` Aquí hay un atributo del marco de datos y no una función, por lo que no termina en un par de paréntesis."
      ]
    },
    {
      "cell_type": "markdown",
      "metadata": {
        "id": "d3AZKs0PinGP"
      },
      "source": [
        "### `DataFrame.columns`\n",
        "Pasemos ahora a las 4 columnas de datos. ¿Qué representa exactamente cada uno de ellos? El atributo `columns` nos dará el nombre de las columnas en el marco de datos."
      ]
    },
    {
      "cell_type": "code",
      "execution_count": 3,
      "metadata": {
        "colab": {
          "base_uri": "https://localhost:8080/"
        },
        "id": "YPGh_ziji-CY",
        "outputId": "74e7a43a-77cc-4c80-da56-7f50767c37a0"
      },
      "outputs": [
        {
          "data": {
            "text/plain": [
              "Index(['sepal length (cm)', 'sepal width (cm)', 'petal length (cm)',\n",
              "       'petal width (cm)'],\n",
              "      dtype='object')"
            ]
          },
          "execution_count": 3,
          "metadata": {},
          "output_type": "execute_result"
        }
      ],
      "source": [
        "iris_df.columns"
      ]
    },
    {
      "cell_type": "markdown",
      "metadata": {
        "id": "TsobcU_VjCC_"
      },
      "source": [
        "Como podemos ver, hay cuatro (4) columnas. El atributo `columns` nos dice el nombre de las columnas y básicamente nada más. Este atributo cobra importancia cuando queremos identificar las características que contiene un conjunto de datos."
      ]
    },
    {
      "cell_type": "markdown",
      "metadata": {
        "id": "2UTlvkjmgRrs"
      },
      "source": [
        "### `DataFrame.info`\n",
        "La cantidad de datos (dada por el atributo `shape`) y el nombre de las entidades o columnas (dado por el atributo `columns`) Cuéntanos algo sobre el conjunto de datos. Ahora, nos gustaría profundizar en el conjunto de datos. La funcion `DataFrame.info()` es bastante útil para esto. "
      ]
    },
    {
      "cell_type": "code",
      "execution_count": 4,
      "metadata": {
        "colab": {
          "base_uri": "https://localhost:8080/"
        },
        "id": "dHHRyG0_gRrt",
        "outputId": "d8fb0c40-4f18-4e19-da48-c8db77d1d3a5",
        "trusted": false
      },
      "outputs": [
        {
          "name": "stdout",
          "output_type": "stream",
          "text": [
            "<class 'pandas.core.frame.DataFrame'>\n",
            "RangeIndex: 150 entries, 0 to 149\n",
            "Data columns (total 4 columns):\n",
            " #   Column             Non-Null Count  Dtype  \n",
            "---  ------             --------------  -----  \n",
            " 0   sepal length (cm)  150 non-null    float64\n",
            " 1   sepal width (cm)   150 non-null    float64\n",
            " 2   petal length (cm)  150 non-null    float64\n",
            " 3   petal width (cm)   150 non-null    float64\n",
            "dtypes: float64(4)\n",
            "memory usage: 4.8 KB\n"
          ]
        }
      ],
      "source": [
        "iris_df.info()"
      ]
    },
    {
      "cell_type": "markdown",
      "metadata": {
        "id": "1XgVMpvigRru"
      },
      "source": [
        "A partir de aquí, podemos hacer algunas observaciones:\n",
        "1. El tipo de datos de cada columna: en este conjunto de datos, todos los datos se almacenan como números de punto flotante de 64 bits.\n",
        "2. Número de valores no nulos: Tratar con valores nulos es un paso importante en la preparación de datos. De ello se hablará más adelante en el cuaderno."
      ]
    },
    {
      "cell_type": "markdown",
      "metadata": {
        "id": "IYlyxbpWFEF4"
      },
      "source": [
        "### DataFrame.describe()\n",
        "Digamos que tenemos una gran cantidad de datos numéricos en nuestro conjunto de datos. Los cálculos estadísticos univariados, como la media, la mediana, los cuartiles, etc., se pueden realizar en cada una de las columnas individualmente. La función `DataFrame.describe()` nos proporciona un resumen estadístico de las columnas numéricas de un conjunto de datos.\n",
        "\n"
      ]
    },
    {
      "cell_type": "code",
      "execution_count": 5,
      "metadata": {
        "colab": {
          "base_uri": "https://localhost:8080/",
          "height": 297
        },
        "id": "tWV-CMstFIRA",
        "outputId": "4fc49941-bc13-4b0c-a412-cb39e7d3f289"
      },
      "outputs": [
        {
          "data": {
            "text/html": [
              "<div>\n",
              "<style scoped>\n",
              "    .dataframe tbody tr th:only-of-type {\n",
              "        vertical-align: middle;\n",
              "    }\n",
              "\n",
              "    .dataframe tbody tr th {\n",
              "        vertical-align: top;\n",
              "    }\n",
              "\n",
              "    .dataframe thead th {\n",
              "        text-align: right;\n",
              "    }\n",
              "</style>\n",
              "<table border=\"1\" class=\"dataframe\">\n",
              "  <thead>\n",
              "    <tr style=\"text-align: right;\">\n",
              "      <th></th>\n",
              "      <th>sepal length (cm)</th>\n",
              "      <th>sepal width (cm)</th>\n",
              "      <th>petal length (cm)</th>\n",
              "      <th>petal width (cm)</th>\n",
              "    </tr>\n",
              "  </thead>\n",
              "  <tbody>\n",
              "    <tr>\n",
              "      <th>count</th>\n",
              "      <td>150.000000</td>\n",
              "      <td>150.000000</td>\n",
              "      <td>150.000000</td>\n",
              "      <td>150.000000</td>\n",
              "    </tr>\n",
              "    <tr>\n",
              "      <th>mean</th>\n",
              "      <td>5.843333</td>\n",
              "      <td>3.057333</td>\n",
              "      <td>3.758000</td>\n",
              "      <td>1.199333</td>\n",
              "    </tr>\n",
              "    <tr>\n",
              "      <th>std</th>\n",
              "      <td>0.828066</td>\n",
              "      <td>0.435866</td>\n",
              "      <td>1.765298</td>\n",
              "      <td>0.762238</td>\n",
              "    </tr>\n",
              "    <tr>\n",
              "      <th>min</th>\n",
              "      <td>4.300000</td>\n",
              "      <td>2.000000</td>\n",
              "      <td>1.000000</td>\n",
              "      <td>0.100000</td>\n",
              "    </tr>\n",
              "    <tr>\n",
              "      <th>25%</th>\n",
              "      <td>5.100000</td>\n",
              "      <td>2.800000</td>\n",
              "      <td>1.600000</td>\n",
              "      <td>0.300000</td>\n",
              "    </tr>\n",
              "    <tr>\n",
              "      <th>50%</th>\n",
              "      <td>5.800000</td>\n",
              "      <td>3.000000</td>\n",
              "      <td>4.350000</td>\n",
              "      <td>1.300000</td>\n",
              "    </tr>\n",
              "    <tr>\n",
              "      <th>75%</th>\n",
              "      <td>6.400000</td>\n",
              "      <td>3.300000</td>\n",
              "      <td>5.100000</td>\n",
              "      <td>1.800000</td>\n",
              "    </tr>\n",
              "    <tr>\n",
              "      <th>max</th>\n",
              "      <td>7.900000</td>\n",
              "      <td>4.400000</td>\n",
              "      <td>6.900000</td>\n",
              "      <td>2.500000</td>\n",
              "    </tr>\n",
              "  </tbody>\n",
              "</table>\n",
              "</div>"
            ],
            "text/plain": [
              "       sepal length (cm)  sepal width (cm)  petal length (cm)  \\\n",
              "count         150.000000        150.000000         150.000000   \n",
              "mean            5.843333          3.057333           3.758000   \n",
              "std             0.828066          0.435866           1.765298   \n",
              "min             4.300000          2.000000           1.000000   \n",
              "25%             5.100000          2.800000           1.600000   \n",
              "50%             5.800000          3.000000           4.350000   \n",
              "75%             6.400000          3.300000           5.100000   \n",
              "max             7.900000          4.400000           6.900000   \n",
              "\n",
              "       petal width (cm)  \n",
              "count        150.000000  \n",
              "mean           1.199333  \n",
              "std            0.762238  \n",
              "min            0.100000  \n",
              "25%            0.300000  \n",
              "50%            1.300000  \n",
              "75%            1.800000  \n",
              "max            2.500000  "
            ]
          },
          "execution_count": 5,
          "metadata": {},
          "output_type": "execute_result"
        }
      ],
      "source": [
        "iris_df.describe()"
      ]
    },
    {
      "cell_type": "markdown",
      "metadata": {
        "id": "zjjtW5hPGMuM"
      },
      "source": [
        "El resultado anterior muestra el número total de puntos de datos, la media, la desviación estándar, el mínimo, el cuartil inferior (25%), la mediana (50%), el cuartil superior (75%) y el valor máximo de cada columna."
      ]
    },
    {
      "cell_type": "markdown",
      "metadata": {
        "id": "-lviAu99gRrv"
      },
      "source": [
        "### `DataFrame.head`\n",
        "Con todas las funciones y atributos anteriores, tenemos una vista de nivel superior del conjunto de datos. Sabemos cuántos puntos de datos hay, cuántas entidades hay, el tipo de datos de cada entidad y el número de valores no nulos de cada entidad.\n",
        "\n",
        "Ahora es el momento de mirar los datos en sí. Veamos cuáles son las primeras filas (los primeros puntos de datos) de nuestro `DataFrame`:"
      ]
    },
    {
      "cell_type": "code",
      "execution_count": 6,
      "metadata": {
        "colab": {
          "base_uri": "https://localhost:8080/",
          "height": 204
        },
        "id": "DZMJZh0OgRrw",
        "outputId": "d9393ee5-c106-4797-f815-218f17160e00",
        "trusted": false
      },
      "outputs": [
        {
          "data": {
            "text/html": [
              "<div>\n",
              "<style scoped>\n",
              "    .dataframe tbody tr th:only-of-type {\n",
              "        vertical-align: middle;\n",
              "    }\n",
              "\n",
              "    .dataframe tbody tr th {\n",
              "        vertical-align: top;\n",
              "    }\n",
              "\n",
              "    .dataframe thead th {\n",
              "        text-align: right;\n",
              "    }\n",
              "</style>\n",
              "<table border=\"1\" class=\"dataframe\">\n",
              "  <thead>\n",
              "    <tr style=\"text-align: right;\">\n",
              "      <th></th>\n",
              "      <th>sepal length (cm)</th>\n",
              "      <th>sepal width (cm)</th>\n",
              "      <th>petal length (cm)</th>\n",
              "      <th>petal width (cm)</th>\n",
              "    </tr>\n",
              "  </thead>\n",
              "  <tbody>\n",
              "    <tr>\n",
              "      <th>0</th>\n",
              "      <td>5.1</td>\n",
              "      <td>3.5</td>\n",
              "      <td>1.4</td>\n",
              "      <td>0.2</td>\n",
              "    </tr>\n",
              "    <tr>\n",
              "      <th>1</th>\n",
              "      <td>4.9</td>\n",
              "      <td>3.0</td>\n",
              "      <td>1.4</td>\n",
              "      <td>0.2</td>\n",
              "    </tr>\n",
              "    <tr>\n",
              "      <th>2</th>\n",
              "      <td>4.7</td>\n",
              "      <td>3.2</td>\n",
              "      <td>1.3</td>\n",
              "      <td>0.2</td>\n",
              "    </tr>\n",
              "    <tr>\n",
              "      <th>3</th>\n",
              "      <td>4.6</td>\n",
              "      <td>3.1</td>\n",
              "      <td>1.5</td>\n",
              "      <td>0.2</td>\n",
              "    </tr>\n",
              "    <tr>\n",
              "      <th>4</th>\n",
              "      <td>5.0</td>\n",
              "      <td>3.6</td>\n",
              "      <td>1.4</td>\n",
              "      <td>0.2</td>\n",
              "    </tr>\n",
              "  </tbody>\n",
              "</table>\n",
              "</div>"
            ],
            "text/plain": [
              "   sepal length (cm)  sepal width (cm)  petal length (cm)  petal width (cm)\n",
              "0                5.1               3.5                1.4               0.2\n",
              "1                4.9               3.0                1.4               0.2\n",
              "2                4.7               3.2                1.3               0.2\n",
              "3                4.6               3.1                1.5               0.2\n",
              "4                5.0               3.6                1.4               0.2"
            ]
          },
          "execution_count": 6,
          "metadata": {},
          "output_type": "execute_result"
        }
      ],
      "source": [
        "iris_df.head()"
      ]
    },
    {
      "cell_type": "markdown",
      "metadata": {
        "id": "EBHEimZuEFQK"
      },
      "source": [
        "Como resultado aquí, podemos ver cinco (5) entradas del conjunto de datos. Si nos fijamos en el índice de la izquierda, encontramos que estas son las primeras cinco filas."
      ]
    },
    {
      "cell_type": "markdown",
      "metadata": {
        "id": "oj7GkrTdgRry"
      },
      "source": [
        "### Ejercicio:\n",
        "\n",
        "Del ejemplo anterior, queda claro que, por defecto, `DataFrame.head` devuelve las primeras cinco filas de un `DataFrame`. En la celda de código a continuación, ¿puede encontrar una manera de mostrar más de cinco filas?"
      ]
    },
    {
      "cell_type": "code",
      "execution_count": 61,
      "metadata": {
        "collapsed": true,
        "id": "EKRmRFFegRrz",
        "trusted": false
      },
      "outputs": [
        {
          "data": {
            "text/html": [
              "<div>\n",
              "<style scoped>\n",
              "    .dataframe tbody tr th:only-of-type {\n",
              "        vertical-align: middle;\n",
              "    }\n",
              "\n",
              "    .dataframe tbody tr th {\n",
              "        vertical-align: top;\n",
              "    }\n",
              "\n",
              "    .dataframe thead th {\n",
              "        text-align: right;\n",
              "    }\n",
              "</style>\n",
              "<table border=\"1\" class=\"dataframe\">\n",
              "  <thead>\n",
              "    <tr style=\"text-align: right;\">\n",
              "      <th></th>\n",
              "      <th>sepal length (cm)</th>\n",
              "      <th>sepal width (cm)</th>\n",
              "      <th>petal length (cm)</th>\n",
              "      <th>petal width (cm)</th>\n",
              "    </tr>\n",
              "  </thead>\n",
              "  <tbody>\n",
              "    <tr>\n",
              "      <th>0</th>\n",
              "      <td>5.1</td>\n",
              "      <td>3.5</td>\n",
              "      <td>1.4</td>\n",
              "      <td>0.2</td>\n",
              "    </tr>\n",
              "    <tr>\n",
              "      <th>1</th>\n",
              "      <td>4.9</td>\n",
              "      <td>3.0</td>\n",
              "      <td>1.4</td>\n",
              "      <td>0.2</td>\n",
              "    </tr>\n",
              "    <tr>\n",
              "      <th>2</th>\n",
              "      <td>4.7</td>\n",
              "      <td>3.2</td>\n",
              "      <td>1.3</td>\n",
              "      <td>0.2</td>\n",
              "    </tr>\n",
              "    <tr>\n",
              "      <th>3</th>\n",
              "      <td>4.6</td>\n",
              "      <td>3.1</td>\n",
              "      <td>1.5</td>\n",
              "      <td>0.2</td>\n",
              "    </tr>\n",
              "    <tr>\n",
              "      <th>4</th>\n",
              "      <td>5.0</td>\n",
              "      <td>3.6</td>\n",
              "      <td>1.4</td>\n",
              "      <td>0.2</td>\n",
              "    </tr>\n",
              "    <tr>\n",
              "      <th>5</th>\n",
              "      <td>5.4</td>\n",
              "      <td>3.9</td>\n",
              "      <td>1.7</td>\n",
              "      <td>0.4</td>\n",
              "    </tr>\n",
              "    <tr>\n",
              "      <th>6</th>\n",
              "      <td>4.6</td>\n",
              "      <td>3.4</td>\n",
              "      <td>1.4</td>\n",
              "      <td>0.3</td>\n",
              "    </tr>\n",
              "    <tr>\n",
              "      <th>7</th>\n",
              "      <td>5.0</td>\n",
              "      <td>3.4</td>\n",
              "      <td>1.5</td>\n",
              "      <td>0.2</td>\n",
              "    </tr>\n",
              "    <tr>\n",
              "      <th>8</th>\n",
              "      <td>4.4</td>\n",
              "      <td>2.9</td>\n",
              "      <td>1.4</td>\n",
              "      <td>0.2</td>\n",
              "    </tr>\n",
              "    <tr>\n",
              "      <th>9</th>\n",
              "      <td>4.9</td>\n",
              "      <td>3.1</td>\n",
              "      <td>1.5</td>\n",
              "      <td>0.1</td>\n",
              "    </tr>\n",
              "  </tbody>\n",
              "</table>\n",
              "</div>"
            ],
            "text/plain": [
              "   sepal length (cm)  sepal width (cm)  petal length (cm)  petal width (cm)\n",
              "0                5.1               3.5                1.4               0.2\n",
              "1                4.9               3.0                1.4               0.2\n",
              "2                4.7               3.2                1.3               0.2\n",
              "3                4.6               3.1                1.5               0.2\n",
              "4                5.0               3.6                1.4               0.2\n",
              "5                5.4               3.9                1.7               0.4\n",
              "6                4.6               3.4                1.4               0.3\n",
              "7                5.0               3.4                1.5               0.2\n",
              "8                4.4               2.9                1.4               0.2\n",
              "9                4.9               3.1                1.5               0.1"
            ]
          },
          "execution_count": 61,
          "metadata": {},
          "output_type": "execute_result"
        }
      ],
      "source": [
        "# Hint: Consult the documentation by using iris_df.head?\n",
        "iris_df.head(10)"
      ]
    },
    {
      "cell_type": "markdown",
      "metadata": {
        "id": "BJ_cpZqNgRr1"
      },
      "source": [
        "### `DataFrame.tail`\n",
        "Otra forma de ver los datos puede ser desde el final (en lugar del principio). La otra cara de la moneda `DataFrame.head` es `DataFrame.tail`, que devuelve las últimas cinco filas de un `DataFrame`:"
      ]
    },
    {
      "cell_type": "code",
      "execution_count": 8,
      "metadata": {
        "colab": {
          "base_uri": "https://localhost:8080/",
          "height": 0
        },
        "id": "heanjfGWgRr2",
        "outputId": "6ae09a21-fe09-4110-b0d7-1a1fbf34d7f3",
        "trusted": false
      },
      "outputs": [
        {
          "data": {
            "text/html": [
              "<div>\n",
              "<style scoped>\n",
              "    .dataframe tbody tr th:only-of-type {\n",
              "        vertical-align: middle;\n",
              "    }\n",
              "\n",
              "    .dataframe tbody tr th {\n",
              "        vertical-align: top;\n",
              "    }\n",
              "\n",
              "    .dataframe thead th {\n",
              "        text-align: right;\n",
              "    }\n",
              "</style>\n",
              "<table border=\"1\" class=\"dataframe\">\n",
              "  <thead>\n",
              "    <tr style=\"text-align: right;\">\n",
              "      <th></th>\n",
              "      <th>sepal length (cm)</th>\n",
              "      <th>sepal width (cm)</th>\n",
              "      <th>petal length (cm)</th>\n",
              "      <th>petal width (cm)</th>\n",
              "    </tr>\n",
              "  </thead>\n",
              "  <tbody>\n",
              "    <tr>\n",
              "      <th>145</th>\n",
              "      <td>6.7</td>\n",
              "      <td>3.0</td>\n",
              "      <td>5.2</td>\n",
              "      <td>2.3</td>\n",
              "    </tr>\n",
              "    <tr>\n",
              "      <th>146</th>\n",
              "      <td>6.3</td>\n",
              "      <td>2.5</td>\n",
              "      <td>5.0</td>\n",
              "      <td>1.9</td>\n",
              "    </tr>\n",
              "    <tr>\n",
              "      <th>147</th>\n",
              "      <td>6.5</td>\n",
              "      <td>3.0</td>\n",
              "      <td>5.2</td>\n",
              "      <td>2.0</td>\n",
              "    </tr>\n",
              "    <tr>\n",
              "      <th>148</th>\n",
              "      <td>6.2</td>\n",
              "      <td>3.4</td>\n",
              "      <td>5.4</td>\n",
              "      <td>2.3</td>\n",
              "    </tr>\n",
              "    <tr>\n",
              "      <th>149</th>\n",
              "      <td>5.9</td>\n",
              "      <td>3.0</td>\n",
              "      <td>5.1</td>\n",
              "      <td>1.8</td>\n",
              "    </tr>\n",
              "  </tbody>\n",
              "</table>\n",
              "</div>"
            ],
            "text/plain": [
              "     sepal length (cm)  sepal width (cm)  petal length (cm)  petal width (cm)\n",
              "145                6.7               3.0                5.2               2.3\n",
              "146                6.3               2.5                5.0               1.9\n",
              "147                6.5               3.0                5.2               2.0\n",
              "148                6.2               3.4                5.4               2.3\n",
              "149                5.9               3.0                5.1               1.8"
            ]
          },
          "execution_count": 8,
          "metadata": {},
          "output_type": "execute_result"
        }
      ],
      "source": [
        "iris_df.tail()"
      ]
    },
    {
      "cell_type": "markdown",
      "metadata": {
        "id": "31kBWfyLgRr3"
      },
      "source": [
        "En la práctica, es útil poder examinar fácilmente las primeras filas o las últimas filas de un `DataFrame`, especialmente cuando se buscan valores atípicos en conjuntos de datos ordenados. \n",
        "\n",
        "Todas las funciones y atributos mostrados anteriormente, con la ayuda de ejemplos de código, nos ayudan a tener una idea de los datos.\n",
        "\n",
        "> **Takeaway:** Incluso con solo mirar los metadatos sobre la información en un DataFrame o el primer y último valor de uno, puede tener una idea inmediata sobre el tamaño, la forma y el contenido de los datos con los que está tratando."
      ]
    },
    {
      "cell_type": "markdown",
      "metadata": {
        "id": "TvurZyLSDxq_"
      },
      "source": [
        "### Datos faltantes\n",
        "Profundicemos en los datos que faltan. Los datos que faltan se producen cuando no se almacena ningún valor en algunas de las columnas. \n",
        "\n",
        "Pongamos un ejemplo: supongamos que alguien es consciente de su peso y no rellena el campo de peso en una encuesta. Entonces, faltará el valor de peso para esa persona en particular. \n",
        "\n",
        "La mayoría de las veces, en los conjuntos de datos del mundo real, se producen valores faltantes.\n",
        "\n",
        "**Cómo Pandas maneja los datos faltantes**\n",
        "\n",
        "\n",
        "Pandas maneja los valores faltantes de dos maneras. Lo primero que has visto antes en secciones anteriores: 'NaN', o No es un número. En realidad, se trata de un valor especial que forma parte de la especificación de punto flotante IEEE y solo se utiliza para indicar los valores de punto flotante que faltan.\n",
        "\n",
        "Para los valores que faltan aparte de floats, pandas usa Python `None`objeto. Si bien puede parecer confuso que se encuentre con dos tipos diferentes de valores que dicen esencialmente lo mismo, existen razones programáticas sólidas para esta elección de diseño y, en la práctica, seguir esta ruta permite a los pandas ofrecer un buen compromiso para la gran mayoría de los casos. A pesar de ello, tanto `None` y `NaN` Lleve restricciones que debe tener en cuenta con respecto a cómo se pueden usar."
      ]
    },
    {
      "cell_type": "markdown",
      "metadata": {
        "id": "lOHqUlZFgRr5"
      },
      "source": [
        "### `None`: Datos faltantes no flotantes\n",
        "Porque `None` proviene de Python, no se puede usar en matrices NumPy y pandas que no sean de tipo de datos `'object'`. Recuerde que las matrices de NumPy (y las estructuras de datos de los pandas) solo pueden contener un tipo de datos. Esto es lo que les da su enorme poder para datos a gran escala y trabajo computacional, pero también limita su flexibilidad. Estas matrices tienen que convertirse en el \"mínimo común denominador\", el tipo de datos que abarcará todo lo que hay en la matriz. Cuando `None` está en la matriz, significa que está trabajando con objetos de Python.\n",
        "\n",
        "Para ver esto en acción, considere la siguiente matriz de ejemplo (tenga en cuenta la `dtype` para ello):"
      ]
    },
    {
      "cell_type": "code",
      "execution_count": 9,
      "metadata": {
        "colab": {
          "base_uri": "https://localhost:8080/"
        },
        "id": "QIoNdY4ngRr7",
        "outputId": "92779f18-62f4-4a03-eca2-e9a101604336",
        "trusted": false
      },
      "outputs": [
        {
          "data": {
            "text/plain": [
              "array([2, None, 6, 8], dtype=object)"
            ]
          },
          "execution_count": 9,
          "metadata": {},
          "output_type": "execute_result"
        }
      ],
      "source": [
        "import numpy as np\n",
        "\n",
        "example1 = np.array([2, None, 6, 8])\n",
        "example1"
      ]
    },
    {
      "cell_type": "markdown",
      "metadata": {
        "id": "pdlgPNbhgRr7"
      },
      "source": [
        "La realidad de los tipos de datos de conversión conlleva dos efectos secundarios. En primer lugar, las operaciones se llevarán a cabo a nivel de código Python interpretado en lugar de código NumPy compilado. Esencialmente, esto significa que cualquier operación que implique`Series` o `DataFrames` con `None`en ellos será más lento. Aunque probablemente no note este impacto en el rendimiento, para grandes conjuntos de datos podría convertirse en un problema.\n",
        "\n",
        "El segundo efecto secundario se deriva del primero. Porque `None` esencialmente arrastra `Series` o `DataFrame`s de vuelta en el mundo de Python vainilla, usando agregaciones de NumPy/pandas como `sum()` o `min()`en matrices que contienen un ``None`` En matrices que contienen unvalor generalmente producirá un error:"
      ]
    },
    {
      "cell_type": "code",
      "execution_count": 10,
      "metadata": {
        "colab": {
          "base_uri": "https://localhost:8080/",
          "height": 292
        },
        "id": "gWbx-KB9gRr8",
        "outputId": "ecba710a-22ec-41d5-a39c-11f67e645b50",
        "trusted": false
      },
      "outputs": [
        {
          "ename": "TypeError",
          "evalue": "unsupported operand type(s) for +: 'int' and 'NoneType'",
          "output_type": "error",
          "traceback": [
            "\u001b[1;31m---------------------------------------------------------------------------\u001b[0m",
            "\u001b[1;31mTypeError\u001b[0m                                 Traceback (most recent call last)",
            "\u001b[1;32mc:\\Users\\HP\\Documents\\LAUNCH X\\Web-dev\\Projects\\Data-Sciencie\\2-Trabajar-con-datos\\8-preparación-de-datos\\notebook.ipynb Celda 27\u001b[0m line \u001b[0;36m1\n\u001b[1;32m----> <a href='vscode-notebook-cell:/c%3A/Users/HP/Documents/LAUNCH%20X/Web-dev/Projects/Data-Sciencie/2-Trabajar-con-datos/8-preparaci%C3%B3n-de-datos/notebook.ipynb#X35sZmlsZQ%3D%3D?line=0'>1</a>\u001b[0m example1\u001b[39m.\u001b[39msum()\n",
            "File \u001b[1;32mc:\\Users\\HP\\anaconda3\\Lib\\site-packages\\numpy\\core\\_methods.py:49\u001b[0m, in \u001b[0;36m_sum\u001b[1;34m(a, axis, dtype, out, keepdims, initial, where)\u001b[0m\n\u001b[0;32m     47\u001b[0m \u001b[39mdef\u001b[39;00m \u001b[39m_sum\u001b[39m(a, axis\u001b[39m=\u001b[39m\u001b[39mNone\u001b[39;00m, dtype\u001b[39m=\u001b[39m\u001b[39mNone\u001b[39;00m, out\u001b[39m=\u001b[39m\u001b[39mNone\u001b[39;00m, keepdims\u001b[39m=\u001b[39m\u001b[39mFalse\u001b[39;00m,\n\u001b[0;32m     48\u001b[0m          initial\u001b[39m=\u001b[39m_NoValue, where\u001b[39m=\u001b[39m\u001b[39mTrue\u001b[39;00m):\n\u001b[1;32m---> 49\u001b[0m     \u001b[39mreturn\u001b[39;00m umr_sum(a, axis, dtype, out, keepdims, initial, where)\n",
            "\u001b[1;31mTypeError\u001b[0m: unsupported operand type(s) for +: 'int' and 'NoneType'"
          ]
        }
      ],
      "source": [
        "example1.sum()"
      ]
    },
    {
      "cell_type": "markdown",
      "metadata": {
        "id": "LcEwO8UogRr9"
      },
      "source": [
        "**Conclusión clave**: Suma (y otras operaciones) entre enteros y `None` values no está definido, lo que puede limitar lo que puede hacer con los conjuntos de datos que los contienen."
      ]
    },
    {
      "cell_type": "markdown",
      "metadata": {
        "id": "pWvVHvETgRr9"
      },
      "source": [
        "### `NaN`: Valores flotantes faltantes\n",
        "\n",
        "A diferencia de `None`, NumPy (y por lo tanto pandas) soporta`NaN` fPor sus operaciones rápidas y vectorizadas y UFUNCS. La mala noticia es que cualquier aritmética realizada en `NaN` siempre da como resultado `NaN`. Por ejemplo:"
      ]
    },
    {
      "cell_type": "code",
      "execution_count": 12,
      "metadata": {
        "colab": {
          "base_uri": "https://localhost:8080/"
        },
        "id": "rcFYfMG9gRr9",
        "outputId": "699e81b7-5c11-4b46-df1d-06071768690f",
        "trusted": false
      },
      "outputs": [
        {
          "data": {
            "text/plain": [
              "nan"
            ]
          },
          "execution_count": 12,
          "metadata": {},
          "output_type": "execute_result"
        }
      ],
      "source": [
        "np.nan + 1"
      ]
    },
    {
      "cell_type": "code",
      "execution_count": 13,
      "metadata": {
        "colab": {
          "base_uri": "https://localhost:8080/"
        },
        "id": "BW3zQD2-gRr-",
        "outputId": "4525b6c4-495d-4f7b-a979-efce1dae9bd0",
        "trusted": false
      },
      "outputs": [
        {
          "data": {
            "text/plain": [
              "nan"
            ]
          },
          "execution_count": 13,
          "metadata": {},
          "output_type": "execute_result"
        }
      ],
      "source": [
        "np.nan * 0"
      ]
    },
    {
      "cell_type": "markdown",
      "metadata": {
        "id": "fU5IPRcCgRr-"
      },
      "source": [
        "La buena noticia: las agregaciones se ejecutan en matrices con `NaN` En ellos no hay errores. La mala noticia: los resultados no son uniformemente útiles:"
      ]
    },
    {
      "cell_type": "code",
      "execution_count": 14,
      "metadata": {
        "colab": {
          "base_uri": "https://localhost:8080/"
        },
        "id": "LCInVgSSgRr_",
        "outputId": "fa06495a-0930-4867-87c5-6023031ea8b5",
        "trusted": false
      },
      "outputs": [
        {
          "data": {
            "text/plain": [
              "(nan, nan, nan)"
            ]
          },
          "execution_count": 14,
          "metadata": {},
          "output_type": "execute_result"
        }
      ],
      "source": [
        "example2 = np.array([2, np.nan, 6, 8]) \n",
        "example2.sum(), example2.min(), example2.max()"
      ]
    },
    {
      "cell_type": "markdown",
      "metadata": {
        "id": "nhlnNJT7gRr_"
      },
      "source": [
        "### Ejercicio"
      ]
    },
    {
      "cell_type": "code",
      "execution_count": 63,
      "metadata": {
        "collapsed": true,
        "id": "yan3QRaOgRr_",
        "trusted": false
      },
      "outputs": [
        {
          "ename": "TypeError",
          "evalue": "'float' object is not callable",
          "output_type": "error",
          "traceback": [
            "\u001b[1;31m---------------------------------------------------------------------------\u001b[0m",
            "\u001b[1;31mTypeError\u001b[0m                                 Traceback (most recent call last)",
            "\u001b[1;32mc:\\Users\\HP\\Documents\\LAUNCH X\\Web-dev\\Projects\\Data-Sciencie\\2-Trabajar-con-datos\\8-preparación-de-datos\\notebook.ipynb Celda 35\u001b[0m line \u001b[0;36m3\n\u001b[0;32m      <a href='vscode-notebook-cell:/c%3A/Users/HP/Documents/LAUNCH%20X/Web-dev/Projects/Data-Sciencie/2-Trabajar-con-datos/8-preparaci%C3%B3n-de-datos/notebook.ipynb#X46sZmlsZQ%3D%3D?line=0'>1</a>\u001b[0m \u001b[39m#¿Qué sucede si agrega np.nan y None juntos?\u001b[39;00m\n\u001b[1;32m----> <a href='vscode-notebook-cell:/c%3A/Users/HP/Documents/LAUNCH%20X/Web-dev/Projects/Data-Sciencie/2-Trabajar-con-datos/8-preparaci%C3%B3n-de-datos/notebook.ipynb#X46sZmlsZQ%3D%3D?line=2'>3</a>\u001b[0m np\u001b[39m.\u001b[39mnan([\u001b[39mNone\u001b[39;00m])\n",
            "\u001b[1;31mTypeError\u001b[0m: 'float' object is not callable"
          ]
        }
      ],
      "source": [
        "#¿Qué sucede si agrega np.nan y None juntos?\n",
        "\n",
        "np.nan([None])\n"
      ]
    },
    {
      "cell_type": "markdown",
      "metadata": {
        "id": "_iDvIRC8gRsA"
      },
      "source": [
        "Recordar: `NaN` es solo para los valores de punto flotante que faltan; No hay `NaN` equivalente para enteros, cadenas o booleanos."
      ]
    },
    {
      "cell_type": "markdown",
      "metadata": {
        "id": "kj6EKdsAgRsA"
      },
      "source": [
        "### `NaN` and `None`: Valores nulos en pandas\n",
        "\n",
        "A pesar de que `NaN` y `None` pueden comportarse de manera algo diferente, los pandas están diseñados para manejarlos indistintamente. Para ver lo que queremos decir, considere una 'Serie' de números enteros:"
      ]
    },
    {
      "cell_type": "code",
      "execution_count": 16,
      "metadata": {
        "colab": {
          "base_uri": "https://localhost:8080/"
        },
        "id": "Nji-KGdNgRsA",
        "outputId": "36aa14d2-8efa-4bfd-c0ed-682991288822",
        "trusted": false
      },
      "outputs": [
        {
          "data": {
            "text/plain": [
              "0    1\n",
              "1    2\n",
              "2    3\n",
              "dtype: int32"
            ]
          },
          "execution_count": 16,
          "metadata": {},
          "output_type": "execute_result"
        }
      ],
      "source": [
        "int_series = pd.Series([1, 2, 3], dtype=int)\n",
        "int_series"
      ]
    },
    {
      "cell_type": "markdown",
      "metadata": {
        "id": "WklCzqb8gRsB"
      },
      "source": [
        "### Ejercicio:"
      ]
    },
    {
      "cell_type": "code",
      "execution_count": 64,
      "metadata": {
        "collapsed": true,
        "id": "Cy-gqX5-gRsB",
        "trusted": false
      },
      "outputs": [
        {
          "name": "stdout",
          "output_type": "stream",
          "text": [
            "0    1.0\n",
            "1    2.0\n",
            "2    NaN\n",
            "3    4.0\n",
            "4    5.0\n",
            "dtype: float64\n"
          ]
        }
      ],
      "source": [
        "# Ahora establece un elemento de int_series igual a None.\n",
        "# ¿Cómo aparece ese elemento en la serie?\n",
        "# ¿Cuál es el tipo de la serie?\n",
        "\n",
        "# Crear una serie de ejemplo\n",
        "int_series = pd.Series([1, 2, 3, 4, 5])\n",
        "\n",
        "# Establecer un elemento a None\n",
        "int_series[2] = None\n",
        "\n",
        "# Mostrar la serie\n",
        "print(int_series)"
      ]
    },
    {
      "cell_type": "markdown",
      "metadata": {
        "id": "WjMQwltNgRsB"
      },
      "source": [
        "En el proceso de conversión de tipos de datos para establecer la homogeneidad de los datos en `Series` y `DataFrame`s, Los pandas cambiarán voluntariamente los valores que faltan entre `None` y `NaN`. Debido a esta característica de diseño, puede ser útil pensar en `None` y `NaN` como dos sabores diferentes de \"nulo\" en los pandas. De hecho, algunos de los métodos básicos que utilizará para lidiar con los valores faltantes en los pandas reflejan esta idea en sus nombres:\n",
        "\n",
        "- `isnull()`: Genera una máscara booleana que indica los valores que faltan\n",
        "- `notnull()`: Opposite of `isnull()`\n",
        "- `dropna()`: Devuelve una versión filtrada de los datos\n",
        "- `fillna()`: Devuelve una copia de los datos con los valores faltantes rellenados o imputados\n",
        "\n",
        "Estos son métodos importantes para dominar y con los que te sientes cómodo, así que repasemos cada uno de ellos con cierta profundidad."
      ]
    },
    {
      "cell_type": "markdown",
      "metadata": {
        "id": "Yh5ifd9FgRsB"
      },
      "source": [
        "### Detección de valores nulos\n",
        "\n",
        "Ahora que hemos entendido la importancia de los valores perdidos, debemos detectarlos en nuestro conjunto de datos antes de tratar con ellos.\n",
        "Ambos `isnull()` y `notnull()` son los métodos principales para detectar datos nulos. Ambos devuelven máscaras booleanas sobre los datos."
      ]
    },
    {
      "cell_type": "code",
      "execution_count": 18,
      "metadata": {
        "collapsed": true,
        "id": "e-vFp5lvgRsC",
        "trusted": false
      },
      "outputs": [],
      "source": [
        "example3 = pd.Series([0, np.nan, '', None])"
      ]
    },
    {
      "cell_type": "code",
      "execution_count": 19,
      "metadata": {
        "colab": {
          "base_uri": "https://localhost:8080/"
        },
        "id": "1XdaJJ7PgRsC",
        "outputId": "92fc363a-1874-471f-846d-f4f9ce1f51d0",
        "trusted": false
      },
      "outputs": [
        {
          "data": {
            "text/plain": [
              "0    False\n",
              "1     True\n",
              "2    False\n",
              "3     True\n",
              "dtype: bool"
            ]
          },
          "execution_count": 19,
          "metadata": {},
          "output_type": "execute_result"
        }
      ],
      "source": [
        "example3.isnull()"
      ]
    },
    {
      "cell_type": "markdown",
      "metadata": {
        "id": "PaSZ0SQygRsC"
      },
      "source": [
        "Fíjate bien en el resultado. ¿Te sorprende algo de esto? Si bien '0' es un nulo aritmético, es un número entero perfectamente bueno y pandas lo trata como tal. '''' es un poco más sutil. Si bien lo usamos en la Sección 1 para representar un valor de cadena vacío, es un objeto de cadena y no una representación de null en lo que respecta a pandas.\n",
        "\n",
        "Ahora, demos la vuelta a esto y usemos estos métodos de una manera más parecida a como los usarías en la práctica. Puede utilizar máscaras booleanas directamente como ``Series`` o ``DataFrame`` index, que puede ser útil cuando se intenta trabajar con valores aislados que faltan (o están presentes).\n",
        "\n",
        "Si queremos el número total de valores que faltan, podemos hacer una suma sobre la máscara producida por el método`isnull()`."
      ]
    },
    {
      "cell_type": "code",
      "execution_count": 20,
      "metadata": {
        "colab": {
          "base_uri": "https://localhost:8080/"
        },
        "id": "JCcQVoPkHDUv",
        "outputId": "001daa72-54f8-4bd5-842a-4df627a79d4d"
      },
      "outputs": [
        {
          "data": {
            "text/plain": [
              "2"
            ]
          },
          "execution_count": 20,
          "metadata": {},
          "output_type": "execute_result"
        }
      ],
      "source": [
        "example3.isnull().sum()"
      ]
    },
    {
      "cell_type": "markdown",
      "metadata": {
        "id": "PlBqEo3mgRsC"
      },
      "source": [
        "### Ejercicio:"
      ]
    },
    {
      "cell_type": "code",
      "execution_count": 65,
      "metadata": {
        "collapsed": true,
        "id": "ggDVf5uygRsD",
        "trusted": false
      },
      "outputs": [
        {
          "data": {
            "text/plain": [
              "0    True\n",
              "2    True\n",
              "dtype: bool"
            ]
          },
          "execution_count": 65,
          "metadata": {},
          "output_type": "execute_result"
        }
      ],
      "source": [
        "# Try running example3[example3.notnull()].\n",
        "# Before you do so, what do you expect to see?\n",
        "example3.notnull()"
      ]
    },
    {
      "cell_type": "markdown",
      "metadata": {},
      "source": [
        "Se utiliza en pandas para crear una máscara booleana que indica qué elementos de la Serie o DataFrame example3 son no nulos (diferentes de NaN)."
      ]
    },
    {
      "cell_type": "markdown",
      "metadata": {
        "id": "BvnoojWsgRr4"
      },
      "source": [
        "### Tratamiento de los datos que faltan\n",
        "\n",
        "> **Objetivo de aprendizaje:** Al final de esta subsección, debe saber cómo y cuándo reemplazar o quitar valores nulos de DataFrames.\n",
        "\n",
        "Los modelos de aprendizaje automático no pueden lidiar con los datos que faltan por sí mismos. Por lo tanto, antes de pasar los datos al modelo, debemos ocuparnos de estos valores faltantes.\n",
        "\n",
        "La forma en que se manejan los datos faltantes conlleva sutiles compensaciones, puede afectar su análisis final y los resultados del mundo real.\n",
        "\n",
        "Hay principalmente dos formas de tratar los datos que faltan:\n",
        "\n",
        "\n",
        "1. Elimine la fila que contiene el valor que falta\n",
        "2. Reemplace el valor faltante con algún otro valor\n",
        "\n",
        "Discutiremos ambos métodos y sus pros y contras en detalle.\n"
      ]
    },
    {
      "cell_type": "markdown",
      "metadata": {
        "id": "3VaYC1TvgRsD"
      },
      "source": [
        "### Eliminación de valores nulos\n",
        "\n",
        "La cantidad de datos que transmitimos a nuestro modelo tiene un efecto directo en su rendimiento. Eliminar valores nulos significa que estamos reduciendo el número de puntos de datos y, por lo tanto, reduciendo el tamaño del conjunto de datos. Por lo tanto, es recomendable eliminar filas con valores nulos cuando el conjunto de datos es bastante grande.\n",
        "\n",
        "Otro caso puede ser que una determinada fila o columna tenga muchos valores faltantes. Entonces, es posible que se descarten porque no agregarían mucho valor a nuestro análisis, ya que faltan la mayoría de los datos para esa fila/columna.\n",
        "\n",
        "Más allá de identificar los valores que faltan, pandas proporciona un medio conveniente para eliminar los valores nulos de `Series` y `DataFrame`s. Para ver esto en acción, volvamos a `example3`. La función `DataFrame.dropna()`ayuda a eliminar las filas con valores nulos."
      ]
    },
    {
      "cell_type": "code",
      "execution_count": 22,
      "metadata": {
        "colab": {
          "base_uri": "https://localhost:8080/"
        },
        "id": "7uIvS097gRsD",
        "outputId": "c13fc117-4ca1-4145-a0aa-42ac89e6e218",
        "trusted": false
      },
      "outputs": [
        {
          "data": {
            "text/plain": [
              "0    0\n",
              "2     \n",
              "dtype: object"
            ]
          },
          "execution_count": 22,
          "metadata": {},
          "output_type": "execute_result"
        }
      ],
      "source": [
        "example3 = example3.dropna()\n",
        "example3"
      ]
    },
    {
      "cell_type": "markdown",
      "metadata": {
        "id": "hil2cr64gRsD"
      },
      "source": [
        "Tenga en cuenta que esto debería verse como su salida de `example3[example3.notnull()]`. La diferencia aquí es que, en lugar de simplemente indexar los valores enmascarados, `dropna` ha eliminado los valores que faltan de la `Serie` `example3`.\n",
        "\n",
        "Dado que los DataFrames tienen dos dimensiones, ofrecen más opciones para quitar datos."
      ]
    },
    {
      "cell_type": "code",
      "execution_count": 23,
      "metadata": {
        "colab": {
          "base_uri": "https://localhost:8080/",
          "height": 142
        },
        "id": "an-l74sPgRsE",
        "outputId": "340876a0-63ad-40f6-bd54-6240cdae50ab",
        "trusted": false
      },
      "outputs": [
        {
          "data": {
            "text/html": [
              "<div>\n",
              "<style scoped>\n",
              "    .dataframe tbody tr th:only-of-type {\n",
              "        vertical-align: middle;\n",
              "    }\n",
              "\n",
              "    .dataframe tbody tr th {\n",
              "        vertical-align: top;\n",
              "    }\n",
              "\n",
              "    .dataframe thead th {\n",
              "        text-align: right;\n",
              "    }\n",
              "</style>\n",
              "<table border=\"1\" class=\"dataframe\">\n",
              "  <thead>\n",
              "    <tr style=\"text-align: right;\">\n",
              "      <th></th>\n",
              "      <th>0</th>\n",
              "      <th>1</th>\n",
              "      <th>2</th>\n",
              "    </tr>\n",
              "  </thead>\n",
              "  <tbody>\n",
              "    <tr>\n",
              "      <th>0</th>\n",
              "      <td>1.0</td>\n",
              "      <td>NaN</td>\n",
              "      <td>7</td>\n",
              "    </tr>\n",
              "    <tr>\n",
              "      <th>1</th>\n",
              "      <td>2.0</td>\n",
              "      <td>5.0</td>\n",
              "      <td>8</td>\n",
              "    </tr>\n",
              "    <tr>\n",
              "      <th>2</th>\n",
              "      <td>NaN</td>\n",
              "      <td>6.0</td>\n",
              "      <td>9</td>\n",
              "    </tr>\n",
              "  </tbody>\n",
              "</table>\n",
              "</div>"
            ],
            "text/plain": [
              "     0    1  2\n",
              "0  1.0  NaN  7\n",
              "1  2.0  5.0  8\n",
              "2  NaN  6.0  9"
            ]
          },
          "execution_count": 23,
          "metadata": {},
          "output_type": "execute_result"
        }
      ],
      "source": [
        "example4 = pd.DataFrame([[1,      np.nan, 7], \n",
        "                         [2,      5,      8], \n",
        "                         [np.nan, 6,      9]])\n",
        "example4"
      ]
    },
    {
      "cell_type": "markdown",
      "metadata": {
        "id": "66wwdHZrgRsE"
      },
      "source": [
        "(¿Te diste cuenta de que los pandas convirtieron dos de las columnas en carrozas para acomodar a los `NaN`?)\n",
        "\n",
        "No puede quitar un solo valor de un `DataFrame`, por lo que debe eliminar filas o columnas completas. Dependiendo de lo que estés haciendo, es posible que desees hacer uno u otro, por lo que pandas te ofrece opciones para ambos. Dado que en la ciencia de datos, las columnas generalmente representan variables y las filas representan observaciones, es más probable que se quiten filas de datos; La configuración predeterminada para `dropna()` es eliminar todas las filas que contienen valores nulos:"
      ]
    },
    {
      "cell_type": "code",
      "execution_count": 24,
      "metadata": {
        "colab": {
          "base_uri": "https://localhost:8080/",
          "height": 80
        },
        "id": "jAVU24RXgRsE",
        "outputId": "0b5e5aee-7187-4d3f-b583-a44136ae5f80",
        "trusted": false
      },
      "outputs": [
        {
          "data": {
            "text/html": [
              "<div>\n",
              "<style scoped>\n",
              "    .dataframe tbody tr th:only-of-type {\n",
              "        vertical-align: middle;\n",
              "    }\n",
              "\n",
              "    .dataframe tbody tr th {\n",
              "        vertical-align: top;\n",
              "    }\n",
              "\n",
              "    .dataframe thead th {\n",
              "        text-align: right;\n",
              "    }\n",
              "</style>\n",
              "<table border=\"1\" class=\"dataframe\">\n",
              "  <thead>\n",
              "    <tr style=\"text-align: right;\">\n",
              "      <th></th>\n",
              "      <th>0</th>\n",
              "      <th>1</th>\n",
              "      <th>2</th>\n",
              "    </tr>\n",
              "  </thead>\n",
              "  <tbody>\n",
              "    <tr>\n",
              "      <th>1</th>\n",
              "      <td>2.0</td>\n",
              "      <td>5.0</td>\n",
              "      <td>8</td>\n",
              "    </tr>\n",
              "  </tbody>\n",
              "</table>\n",
              "</div>"
            ],
            "text/plain": [
              "     0    1  2\n",
              "1  2.0  5.0  8"
            ]
          },
          "execution_count": 24,
          "metadata": {},
          "output_type": "execute_result"
        }
      ],
      "source": [
        "example4.dropna()"
      ]
    },
    {
      "cell_type": "markdown",
      "metadata": {
        "id": "TrQRBuTDgRsE"
      },
      "source": [
        "Si es necesario, puede quitar los valores NA de las columnas. Use `axis=1` para hacerlo:"
      ]
    },
    {
      "cell_type": "code",
      "execution_count": 25,
      "metadata": {
        "colab": {
          "base_uri": "https://localhost:8080/",
          "height": 142
        },
        "id": "GrBhxu9GgRsE",
        "outputId": "ff4001f3-2e61-4509-d60e-0093d1068437",
        "trusted": false
      },
      "outputs": [
        {
          "data": {
            "text/html": [
              "<div>\n",
              "<style scoped>\n",
              "    .dataframe tbody tr th:only-of-type {\n",
              "        vertical-align: middle;\n",
              "    }\n",
              "\n",
              "    .dataframe tbody tr th {\n",
              "        vertical-align: top;\n",
              "    }\n",
              "\n",
              "    .dataframe thead th {\n",
              "        text-align: right;\n",
              "    }\n",
              "</style>\n",
              "<table border=\"1\" class=\"dataframe\">\n",
              "  <thead>\n",
              "    <tr style=\"text-align: right;\">\n",
              "      <th></th>\n",
              "      <th>2</th>\n",
              "    </tr>\n",
              "  </thead>\n",
              "  <tbody>\n",
              "    <tr>\n",
              "      <th>0</th>\n",
              "      <td>7</td>\n",
              "    </tr>\n",
              "    <tr>\n",
              "      <th>1</th>\n",
              "      <td>8</td>\n",
              "    </tr>\n",
              "    <tr>\n",
              "      <th>2</th>\n",
              "      <td>9</td>\n",
              "    </tr>\n",
              "  </tbody>\n",
              "</table>\n",
              "</div>"
            ],
            "text/plain": [
              "   2\n",
              "0  7\n",
              "1  8\n",
              "2  9"
            ]
          },
          "execution_count": 25,
          "metadata": {},
          "output_type": "execute_result"
        }
      ],
      "source": [
        "example4.dropna(axis='columns')"
      ]
    },
    {
      "cell_type": "markdown",
      "metadata": {
        "id": "KWXiKTfMgRsF"
      },
      "source": [
        "Tenga en cuenta que esto puede quitar una gran cantidad de datos que es posible que desee conservar, especialmente en conjuntos de datos más pequeños. ¿Qué sucede si solo desea eliminar filas o columnas que contienen varios o incluso todos los valores nulos? Especifique esos ajustes en `dropna` con los parámetros `how` y `thresh`.\n",
        "\n",
        "De forma predeterminada, `how='any'` (si desea verificar por sí mismo o ver qué otros parámetros tiene el método, ejecute 'example4.dropna?' en una celda de código). Alternativamente, puede especificar `how='all'` para eliminar solo las filas o columnas que contienen todos los valores nulos. Ampliemos nuestro ejemplo `DataFrame` para verlo en acción en el siguiente ejercicio."
      ]
    },
    {
      "cell_type": "code",
      "execution_count": 26,
      "metadata": {
        "colab": {
          "base_uri": "https://localhost:8080/",
          "height": 142
        },
        "id": "Bcf_JWTsgRsF",
        "outputId": "72e0b1b8-52fa-4923-98ce-b6fbed6e44b1",
        "trusted": false
      },
      "outputs": [
        {
          "data": {
            "text/html": [
              "<div>\n",
              "<style scoped>\n",
              "    .dataframe tbody tr th:only-of-type {\n",
              "        vertical-align: middle;\n",
              "    }\n",
              "\n",
              "    .dataframe tbody tr th {\n",
              "        vertical-align: top;\n",
              "    }\n",
              "\n",
              "    .dataframe thead th {\n",
              "        text-align: right;\n",
              "    }\n",
              "</style>\n",
              "<table border=\"1\" class=\"dataframe\">\n",
              "  <thead>\n",
              "    <tr style=\"text-align: right;\">\n",
              "      <th></th>\n",
              "      <th>0</th>\n",
              "      <th>1</th>\n",
              "      <th>2</th>\n",
              "      <th>3</th>\n",
              "    </tr>\n",
              "  </thead>\n",
              "  <tbody>\n",
              "    <tr>\n",
              "      <th>0</th>\n",
              "      <td>1.0</td>\n",
              "      <td>NaN</td>\n",
              "      <td>7</td>\n",
              "      <td>NaN</td>\n",
              "    </tr>\n",
              "    <tr>\n",
              "      <th>1</th>\n",
              "      <td>2.0</td>\n",
              "      <td>5.0</td>\n",
              "      <td>8</td>\n",
              "      <td>NaN</td>\n",
              "    </tr>\n",
              "    <tr>\n",
              "      <th>2</th>\n",
              "      <td>NaN</td>\n",
              "      <td>6.0</td>\n",
              "      <td>9</td>\n",
              "      <td>NaN</td>\n",
              "    </tr>\n",
              "  </tbody>\n",
              "</table>\n",
              "</div>"
            ],
            "text/plain": [
              "     0    1  2   3\n",
              "0  1.0  NaN  7 NaN\n",
              "1  2.0  5.0  8 NaN\n",
              "2  NaN  6.0  9 NaN"
            ]
          },
          "execution_count": 26,
          "metadata": {},
          "output_type": "execute_result"
        }
      ],
      "source": [
        "example4[3] = np.nan\n",
        "example4"
      ]
    },
    {
      "cell_type": "markdown",
      "metadata": {
        "id": "pNZer7q9JPNC"
      },
      "source": [
        ">Puntos clave: \n",
        "1. Descartar valores nulos es una buena idea solo si el conjunto de datos es lo suficientemente grande.\n",
        "2. Las filas o columnas completas se pueden descartar si faltan la mayoría de sus datos.\n",
        "3. El método `DataFrame.dropna(axis=)` ayuda a eliminar valores nulos. El argumento `axis` significa si se deben eliminar filas o columnas. \n",
        "4. También se puede utilizar el argumento `how`. De forma predeterminada, se establece en `any`. Por lo tanto, solo descarta aquellas filas/columnas que contienen valores nulos. Se puede establecer en 'all' para especificar que eliminaremos solo aquellas filas/columnas en las que todos los valores sean nulos."
      ]
    },
    {
      "cell_type": "markdown",
      "metadata": {
        "id": "oXXSfQFHgRsF"
      },
      "source": [
        "### Ejercicio:"
      ]
    },
    {
      "cell_type": "code",
      "execution_count": null,
      "metadata": {},
      "outputs": [],
      "source": [
        "# ¿Cómo podrías hacer para eliminar solo la columna 3?\n",
        "# Sugerencia: recuerde que deberá proporcionar tanto el parámetro axis como el parámetro how."
      ]
    },
    {
      "cell_type": "markdown",
      "metadata": {
        "id": "38kwAihWgRsG"
      },
      "source": [
        "El parametro `thresh` proporciona un control más detallado: se establece el número de valores *no nulos* que debe tener una fila o columna para mantenerse:"
      ]
    },
    {
      "cell_type": "code",
      "execution_count": 28,
      "metadata": {
        "colab": {
          "base_uri": "https://localhost:8080/",
          "height": 80
        },
        "id": "M9dCNMaagRsG",
        "outputId": "8093713a-54d2-4e54-c73f-4eea315cb6f2",
        "trusted": false
      },
      "outputs": [
        {
          "data": {
            "text/html": [
              "<div>\n",
              "<style scoped>\n",
              "    .dataframe tbody tr th:only-of-type {\n",
              "        vertical-align: middle;\n",
              "    }\n",
              "\n",
              "    .dataframe tbody tr th {\n",
              "        vertical-align: top;\n",
              "    }\n",
              "\n",
              "    .dataframe thead th {\n",
              "        text-align: right;\n",
              "    }\n",
              "</style>\n",
              "<table border=\"1\" class=\"dataframe\">\n",
              "  <thead>\n",
              "    <tr style=\"text-align: right;\">\n",
              "      <th></th>\n",
              "      <th>0</th>\n",
              "      <th>1</th>\n",
              "      <th>2</th>\n",
              "      <th>3</th>\n",
              "    </tr>\n",
              "  </thead>\n",
              "  <tbody>\n",
              "    <tr>\n",
              "      <th>1</th>\n",
              "      <td>2.0</td>\n",
              "      <td>5.0</td>\n",
              "      <td>8</td>\n",
              "      <td>NaN</td>\n",
              "    </tr>\n",
              "  </tbody>\n",
              "</table>\n",
              "</div>"
            ],
            "text/plain": [
              "     0    1  2   3\n",
              "1  2.0  5.0  8 NaN"
            ]
          },
          "execution_count": 28,
          "metadata": {},
          "output_type": "execute_result"
        }
      ],
      "source": [
        "example4.dropna(axis='rows', thresh=3)"
      ]
    },
    {
      "cell_type": "markdown",
      "metadata": {
        "id": "fmSFnzZegRsG"
      },
      "source": [
        "Aquí, la primera y la última fila se han quitado, ya que solo contienen dos valores no nulos."
      ]
    },
    {
      "cell_type": "markdown",
      "metadata": {
        "id": "mCcxLGyUgRsG"
      },
      "source": [
        "### Rellenar valores nulos\n",
        "\n",
        "A veces tiene sentido rellenar los valores que faltan con otros que podrían ser válidos. Hay algunas técnicas para rellenar valores nulos. La primera es utilizar el conocimiento del dominio (conocimiento del tema en el que se basa el conjunto de datos) para aproximarse de alguna manera a los valores que faltan. \n",
        "\n",
        "\n",
        "Podría usar `isnull` para hacer esto en su lugar, pero eso puede ser laborioso, especialmente si tiene muchos valores para completar. Debido a que esta es una tarea tan común en la ciencia de datos, pandas proporciona `fillna`, que devuelve una copia de la `Serie` o 'DataFrame' con los valores faltantes reemplazados por uno de su elección. Vamos a crear otro ejemplo de `Serie` para ver cómo funciona esto en la práctica."
      ]
    },
    {
      "cell_type": "markdown",
      "metadata": {
        "id": "CE8S7louLezV"
      },
      "source": [
        "### Datos categóricos (no numéricos)\n",
        "En primer lugar, consideremos los datos no numéricos. En los conjuntos de datos, tenemos columnas con datos categóricos. Eg. Género, verdadero o falso, etc.\n",
        "\n",
        "En la mayoría de estos casos, reemplazamos los valores faltantes con el `mode` de la columna. Digamos que tenemos 100 puntos de datos y 90 han dicho Verdadero, 8 han dicho Falso y 2 no se han llenado. Luego, podemos hacer el 2 con True, considerando la columna completa. \n",
        "\n",
        "Una vez más, aquí podemos usar el conocimiento del dominio. Consideremos un ejemplo de llenado con el modo."
      ]
    },
    {
      "cell_type": "code",
      "execution_count": 29,
      "metadata": {
        "colab": {
          "base_uri": "https://localhost:8080/",
          "height": 204
        },
        "id": "MY5faq4yLdpQ",
        "outputId": "19ab472e-1eed-4de8-f8a7-db2a3af3cb1a"
      },
      "outputs": [
        {
          "data": {
            "text/html": [
              "<div>\n",
              "<style scoped>\n",
              "    .dataframe tbody tr th:only-of-type {\n",
              "        vertical-align: middle;\n",
              "    }\n",
              "\n",
              "    .dataframe tbody tr th {\n",
              "        vertical-align: top;\n",
              "    }\n",
              "\n",
              "    .dataframe thead th {\n",
              "        text-align: right;\n",
              "    }\n",
              "</style>\n",
              "<table border=\"1\" class=\"dataframe\">\n",
              "  <thead>\n",
              "    <tr style=\"text-align: right;\">\n",
              "      <th></th>\n",
              "      <th>0</th>\n",
              "      <th>1</th>\n",
              "      <th>2</th>\n",
              "    </tr>\n",
              "  </thead>\n",
              "  <tbody>\n",
              "    <tr>\n",
              "      <th>0</th>\n",
              "      <td>1</td>\n",
              "      <td>2</td>\n",
              "      <td>True</td>\n",
              "    </tr>\n",
              "    <tr>\n",
              "      <th>1</th>\n",
              "      <td>3</td>\n",
              "      <td>4</td>\n",
              "      <td>None</td>\n",
              "    </tr>\n",
              "    <tr>\n",
              "      <th>2</th>\n",
              "      <td>5</td>\n",
              "      <td>6</td>\n",
              "      <td>False</td>\n",
              "    </tr>\n",
              "    <tr>\n",
              "      <th>3</th>\n",
              "      <td>7</td>\n",
              "      <td>8</td>\n",
              "      <td>True</td>\n",
              "    </tr>\n",
              "    <tr>\n",
              "      <th>4</th>\n",
              "      <td>9</td>\n",
              "      <td>10</td>\n",
              "      <td>True</td>\n",
              "    </tr>\n",
              "  </tbody>\n",
              "</table>\n",
              "</div>"
            ],
            "text/plain": [
              "   0   1      2\n",
              "0  1   2   True\n",
              "1  3   4   None\n",
              "2  5   6  False\n",
              "3  7   8   True\n",
              "4  9  10   True"
            ]
          },
          "execution_count": 29,
          "metadata": {},
          "output_type": "execute_result"
        }
      ],
      "source": [
        "fill_with_mode = pd.DataFrame([[1,2,\"True\"],\n",
        "                               [3,4,None],\n",
        "                               [5,6,\"False\"],\n",
        "                               [7,8,\"True\"],\n",
        "                               [9,10,\"True\"]])\n",
        "\n",
        "fill_with_mode"
      ]
    },
    {
      "cell_type": "markdown",
      "metadata": {
        "id": "MLAoMQOfNPlA"
      },
      "source": [
        "Ahora, primero encontremos el modo antes de llenar el archivo `None` valor con el modo."
      ]
    },
    {
      "cell_type": "code",
      "execution_count": 30,
      "metadata": {
        "colab": {
          "base_uri": "https://localhost:8080/"
        },
        "id": "WKy-9Y2tN5jv",
        "outputId": "8da9fa16-e08c-447e-dea1-d4b1db2feebf"
      },
      "outputs": [
        {
          "data": {
            "text/plain": [
              "2\n",
              "True     3\n",
              "False    1\n",
              "Name: count, dtype: int64"
            ]
          },
          "execution_count": 30,
          "metadata": {},
          "output_type": "execute_result"
        }
      ],
      "source": [
        "fill_with_mode[2].value_counts()"
      ]
    },
    {
      "cell_type": "markdown",
      "metadata": {
        "id": "6iNz_zG_OKrx"
      },
      "source": [
        "Por lo tanto, reemplazaremos None con True"
      ]
    },
    {
      "cell_type": "code",
      "execution_count": 31,
      "metadata": {
        "id": "TxPKteRvNPOs"
      },
      "outputs": [],
      "source": [
        "fill_with_mode[2].fillna('True',inplace=True)"
      ]
    },
    {
      "cell_type": "code",
      "execution_count": 32,
      "metadata": {
        "colab": {
          "base_uri": "https://localhost:8080/",
          "height": 204
        },
        "id": "tvas7c9_OPWE",
        "outputId": "ec3c8e44-d644-475e-9e22-c65101965850"
      },
      "outputs": [
        {
          "data": {
            "text/html": [
              "<div>\n",
              "<style scoped>\n",
              "    .dataframe tbody tr th:only-of-type {\n",
              "        vertical-align: middle;\n",
              "    }\n",
              "\n",
              "    .dataframe tbody tr th {\n",
              "        vertical-align: top;\n",
              "    }\n",
              "\n",
              "    .dataframe thead th {\n",
              "        text-align: right;\n",
              "    }\n",
              "</style>\n",
              "<table border=\"1\" class=\"dataframe\">\n",
              "  <thead>\n",
              "    <tr style=\"text-align: right;\">\n",
              "      <th></th>\n",
              "      <th>0</th>\n",
              "      <th>1</th>\n",
              "      <th>2</th>\n",
              "    </tr>\n",
              "  </thead>\n",
              "  <tbody>\n",
              "    <tr>\n",
              "      <th>0</th>\n",
              "      <td>1</td>\n",
              "      <td>2</td>\n",
              "      <td>True</td>\n",
              "    </tr>\n",
              "    <tr>\n",
              "      <th>1</th>\n",
              "      <td>3</td>\n",
              "      <td>4</td>\n",
              "      <td>True</td>\n",
              "    </tr>\n",
              "    <tr>\n",
              "      <th>2</th>\n",
              "      <td>5</td>\n",
              "      <td>6</td>\n",
              "      <td>False</td>\n",
              "    </tr>\n",
              "    <tr>\n",
              "      <th>3</th>\n",
              "      <td>7</td>\n",
              "      <td>8</td>\n",
              "      <td>True</td>\n",
              "    </tr>\n",
              "    <tr>\n",
              "      <th>4</th>\n",
              "      <td>9</td>\n",
              "      <td>10</td>\n",
              "      <td>True</td>\n",
              "    </tr>\n",
              "  </tbody>\n",
              "</table>\n",
              "</div>"
            ],
            "text/plain": [
              "   0   1      2\n",
              "0  1   2   True\n",
              "1  3   4   True\n",
              "2  5   6  False\n",
              "3  7   8   True\n",
              "4  9  10   True"
            ]
          },
          "execution_count": 32,
          "metadata": {},
          "output_type": "execute_result"
        }
      ],
      "source": [
        "fill_with_mode"
      ]
    },
    {
      "cell_type": "markdown",
      "metadata": {
        "id": "SktitLxxOR16"
      },
      "source": [
        "Como podemos ver, el valor nulo ha sido reemplazado. No hace falta decir que podríamos haber escrito cualquier cosa en su lugar o`'True'` y habría sido sustituido."
      ]
    },
    {
      "cell_type": "markdown",
      "metadata": {
        "id": "heYe1I0dOmQ_"
      },
      "source": [
        "### Datos numéricos\n",
        "Ahora, pasando a los datos numéricos. Aquí, tenemos dos formas comunes de reemplazar los valores que faltan:\n",
        "\n",
        "1. Reemplace con Mediana de la fila\n",
        "2. Reemplace con Media de la fila \n",
        "\n",
        "Reemplazamos con Mediana, en caso de datos sesgados con valores atípicos. Esto se debe a que la mediana es robusta a los valores atípicos.\n",
        "\n",
        "Cuando los datos están normalizados, podemos usar la media, ya que en ese caso, la media y la mediana estarían bastante cerca.\n",
        "\n",
        "Primero, tomemos una columna que está distribuida normalmente y llenemos el valor faltante con la media de la columna."
      ]
    },
    {
      "cell_type": "code",
      "execution_count": 33,
      "metadata": {
        "colab": {
          "base_uri": "https://localhost:8080/",
          "height": 204
        },
        "id": "09HM_2feOj5Y",
        "outputId": "7e309013-9acb-411c-9b06-4de795bbeeff"
      },
      "outputs": [
        {
          "data": {
            "text/html": [
              "<div>\n",
              "<style scoped>\n",
              "    .dataframe tbody tr th:only-of-type {\n",
              "        vertical-align: middle;\n",
              "    }\n",
              "\n",
              "    .dataframe tbody tr th {\n",
              "        vertical-align: top;\n",
              "    }\n",
              "\n",
              "    .dataframe thead th {\n",
              "        text-align: right;\n",
              "    }\n",
              "</style>\n",
              "<table border=\"1\" class=\"dataframe\">\n",
              "  <thead>\n",
              "    <tr style=\"text-align: right;\">\n",
              "      <th></th>\n",
              "      <th>0</th>\n",
              "      <th>1</th>\n",
              "      <th>2</th>\n",
              "    </tr>\n",
              "  </thead>\n",
              "  <tbody>\n",
              "    <tr>\n",
              "      <th>0</th>\n",
              "      <td>-2.0</td>\n",
              "      <td>0</td>\n",
              "      <td>1</td>\n",
              "    </tr>\n",
              "    <tr>\n",
              "      <th>1</th>\n",
              "      <td>-1.0</td>\n",
              "      <td>2</td>\n",
              "      <td>3</td>\n",
              "    </tr>\n",
              "    <tr>\n",
              "      <th>2</th>\n",
              "      <td>NaN</td>\n",
              "      <td>4</td>\n",
              "      <td>5</td>\n",
              "    </tr>\n",
              "    <tr>\n",
              "      <th>3</th>\n",
              "      <td>1.0</td>\n",
              "      <td>6</td>\n",
              "      <td>7</td>\n",
              "    </tr>\n",
              "    <tr>\n",
              "      <th>4</th>\n",
              "      <td>2.0</td>\n",
              "      <td>8</td>\n",
              "      <td>9</td>\n",
              "    </tr>\n",
              "  </tbody>\n",
              "</table>\n",
              "</div>"
            ],
            "text/plain": [
              "     0  1  2\n",
              "0 -2.0  0  1\n",
              "1 -1.0  2  3\n",
              "2  NaN  4  5\n",
              "3  1.0  6  7\n",
              "4  2.0  8  9"
            ]
          },
          "execution_count": 33,
          "metadata": {},
          "output_type": "execute_result"
        }
      ],
      "source": [
        "fill_with_mean = pd.DataFrame([[-2,0,1],\n",
        "                               [-1,2,3],\n",
        "                               [np.nan,4,5],\n",
        "                               [1,6,7],\n",
        "                               [2,8,9]])\n",
        "\n",
        "fill_with_mean"
      ]
    },
    {
      "cell_type": "markdown",
      "metadata": {
        "id": "ka7-wNfzSxbx"
      },
      "source": [
        "La media de la columna es"
      ]
    },
    {
      "cell_type": "code",
      "execution_count": 34,
      "metadata": {
        "colab": {
          "base_uri": "https://localhost:8080/"
        },
        "id": "XYtYEf5BSxFL",
        "outputId": "68a78d18-f0e5-4a9a-a959-2c3676a57c70"
      },
      "outputs": [
        {
          "data": {
            "text/plain": [
              "0.0"
            ]
          },
          "execution_count": 34,
          "metadata": {},
          "output_type": "execute_result"
        }
      ],
      "source": [
        "np.mean(fill_with_mean[0])"
      ]
    },
    {
      "cell_type": "markdown",
      "metadata": {
        "id": "oBSRGxKRS39K"
      },
      "source": [
        "Relleno de media"
      ]
    },
    {
      "cell_type": "code",
      "execution_count": 35,
      "metadata": {
        "colab": {
          "base_uri": "https://localhost:8080/",
          "height": 204
        },
        "id": "FzncQLmuS5jh",
        "outputId": "00f74fff-01f4-4024-c261-796f50f01d2e"
      },
      "outputs": [
        {
          "data": {
            "text/html": [
              "<div>\n",
              "<style scoped>\n",
              "    .dataframe tbody tr th:only-of-type {\n",
              "        vertical-align: middle;\n",
              "    }\n",
              "\n",
              "    .dataframe tbody tr th {\n",
              "        vertical-align: top;\n",
              "    }\n",
              "\n",
              "    .dataframe thead th {\n",
              "        text-align: right;\n",
              "    }\n",
              "</style>\n",
              "<table border=\"1\" class=\"dataframe\">\n",
              "  <thead>\n",
              "    <tr style=\"text-align: right;\">\n",
              "      <th></th>\n",
              "      <th>0</th>\n",
              "      <th>1</th>\n",
              "      <th>2</th>\n",
              "    </tr>\n",
              "  </thead>\n",
              "  <tbody>\n",
              "    <tr>\n",
              "      <th>0</th>\n",
              "      <td>-2.0</td>\n",
              "      <td>0</td>\n",
              "      <td>1</td>\n",
              "    </tr>\n",
              "    <tr>\n",
              "      <th>1</th>\n",
              "      <td>-1.0</td>\n",
              "      <td>2</td>\n",
              "      <td>3</td>\n",
              "    </tr>\n",
              "    <tr>\n",
              "      <th>2</th>\n",
              "      <td>0.0</td>\n",
              "      <td>4</td>\n",
              "      <td>5</td>\n",
              "    </tr>\n",
              "    <tr>\n",
              "      <th>3</th>\n",
              "      <td>1.0</td>\n",
              "      <td>6</td>\n",
              "      <td>7</td>\n",
              "    </tr>\n",
              "    <tr>\n",
              "      <th>4</th>\n",
              "      <td>2.0</td>\n",
              "      <td>8</td>\n",
              "      <td>9</td>\n",
              "    </tr>\n",
              "  </tbody>\n",
              "</table>\n",
              "</div>"
            ],
            "text/plain": [
              "     0  1  2\n",
              "0 -2.0  0  1\n",
              "1 -1.0  2  3\n",
              "2  0.0  4  5\n",
              "3  1.0  6  7\n",
              "4  2.0  8  9"
            ]
          },
          "execution_count": 35,
          "metadata": {},
          "output_type": "execute_result"
        }
      ],
      "source": [
        "fill_with_mean[0].fillna(np.mean(fill_with_mean[0]),inplace=True)\n",
        "fill_with_mean"
      ]
    },
    {
      "cell_type": "markdown",
      "metadata": {
        "id": "CwpVFCrPTC5z"
      },
      "source": [
        "Como podemos ver, el valor que falta ha sido reemplazado por su media."
      ]
    },
    {
      "cell_type": "markdown",
      "metadata": {
        "id": "jIvF13a1i00Z"
      },
      "source": [
        "Ahora probemos con otro dataframe, y esta vez reemplazaremos los valores None con la mediana de la columna."
      ]
    },
    {
      "cell_type": "code",
      "execution_count": 36,
      "metadata": {
        "colab": {
          "base_uri": "https://localhost:8080/",
          "height": 204
        },
        "id": "DA59Bqo3jBYZ",
        "outputId": "85dae6ec-7394-4c36-fda0-e04769ec4a32"
      },
      "outputs": [
        {
          "data": {
            "text/html": [
              "<div>\n",
              "<style scoped>\n",
              "    .dataframe tbody tr th:only-of-type {\n",
              "        vertical-align: middle;\n",
              "    }\n",
              "\n",
              "    .dataframe tbody tr th {\n",
              "        vertical-align: top;\n",
              "    }\n",
              "\n",
              "    .dataframe thead th {\n",
              "        text-align: right;\n",
              "    }\n",
              "</style>\n",
              "<table border=\"1\" class=\"dataframe\">\n",
              "  <thead>\n",
              "    <tr style=\"text-align: right;\">\n",
              "      <th></th>\n",
              "      <th>0</th>\n",
              "      <th>1</th>\n",
              "      <th>2</th>\n",
              "    </tr>\n",
              "  </thead>\n",
              "  <tbody>\n",
              "    <tr>\n",
              "      <th>0</th>\n",
              "      <td>-2</td>\n",
              "      <td>0.0</td>\n",
              "      <td>1</td>\n",
              "    </tr>\n",
              "    <tr>\n",
              "      <th>1</th>\n",
              "      <td>-1</td>\n",
              "      <td>2.0</td>\n",
              "      <td>3</td>\n",
              "    </tr>\n",
              "    <tr>\n",
              "      <th>2</th>\n",
              "      <td>0</td>\n",
              "      <td>NaN</td>\n",
              "      <td>5</td>\n",
              "    </tr>\n",
              "    <tr>\n",
              "      <th>3</th>\n",
              "      <td>1</td>\n",
              "      <td>6.0</td>\n",
              "      <td>7</td>\n",
              "    </tr>\n",
              "    <tr>\n",
              "      <th>4</th>\n",
              "      <td>2</td>\n",
              "      <td>8.0</td>\n",
              "      <td>9</td>\n",
              "    </tr>\n",
              "  </tbody>\n",
              "</table>\n",
              "</div>"
            ],
            "text/plain": [
              "   0    1  2\n",
              "0 -2  0.0  1\n",
              "1 -1  2.0  3\n",
              "2  0  NaN  5\n",
              "3  1  6.0  7\n",
              "4  2  8.0  9"
            ]
          },
          "execution_count": 36,
          "metadata": {},
          "output_type": "execute_result"
        }
      ],
      "source": [
        "fill_with_median = pd.DataFrame([[-2,0,1],\n",
        "                               [-1,2,3],\n",
        "                               [0,np.nan,5],\n",
        "                               [1,6,7],\n",
        "                               [2,8,9]])\n",
        "\n",
        "fill_with_median"
      ]
    },
    {
      "cell_type": "markdown",
      "metadata": {
        "id": "mM1GpXYmjHnc"
      },
      "source": [
        "La mediana de la segunda columna es"
      ]
    },
    {
      "cell_type": "code",
      "execution_count": 37,
      "metadata": {
        "colab": {
          "base_uri": "https://localhost:8080/"
        },
        "id": "uiDy5v3xjHHX",
        "outputId": "564b6b74-2004-4486-90d4-b39330a64b88"
      },
      "outputs": [
        {
          "data": {
            "text/plain": [
              "4.0"
            ]
          },
          "execution_count": 37,
          "metadata": {},
          "output_type": "execute_result"
        }
      ],
      "source": [
        "fill_with_median[1].median()"
      ]
    },
    {
      "cell_type": "markdown",
      "metadata": {
        "id": "z9PLF75Jj_1s"
      },
      "source": [
        "Relleno con mediana"
      ]
    },
    {
      "cell_type": "code",
      "execution_count": 38,
      "metadata": {
        "colab": {
          "base_uri": "https://localhost:8080/",
          "height": 204
        },
        "id": "lFKbOxCMkBbg",
        "outputId": "a8bd18fb-2765-47d4-e5fe-e965f57ed1f4"
      },
      "outputs": [
        {
          "data": {
            "text/html": [
              "<div>\n",
              "<style scoped>\n",
              "    .dataframe tbody tr th:only-of-type {\n",
              "        vertical-align: middle;\n",
              "    }\n",
              "\n",
              "    .dataframe tbody tr th {\n",
              "        vertical-align: top;\n",
              "    }\n",
              "\n",
              "    .dataframe thead th {\n",
              "        text-align: right;\n",
              "    }\n",
              "</style>\n",
              "<table border=\"1\" class=\"dataframe\">\n",
              "  <thead>\n",
              "    <tr style=\"text-align: right;\">\n",
              "      <th></th>\n",
              "      <th>0</th>\n",
              "      <th>1</th>\n",
              "      <th>2</th>\n",
              "    </tr>\n",
              "  </thead>\n",
              "  <tbody>\n",
              "    <tr>\n",
              "      <th>0</th>\n",
              "      <td>-2</td>\n",
              "      <td>0.0</td>\n",
              "      <td>1</td>\n",
              "    </tr>\n",
              "    <tr>\n",
              "      <th>1</th>\n",
              "      <td>-1</td>\n",
              "      <td>2.0</td>\n",
              "      <td>3</td>\n",
              "    </tr>\n",
              "    <tr>\n",
              "      <th>2</th>\n",
              "      <td>0</td>\n",
              "      <td>4.0</td>\n",
              "      <td>5</td>\n",
              "    </tr>\n",
              "    <tr>\n",
              "      <th>3</th>\n",
              "      <td>1</td>\n",
              "      <td>6.0</td>\n",
              "      <td>7</td>\n",
              "    </tr>\n",
              "    <tr>\n",
              "      <th>4</th>\n",
              "      <td>2</td>\n",
              "      <td>8.0</td>\n",
              "      <td>9</td>\n",
              "    </tr>\n",
              "  </tbody>\n",
              "</table>\n",
              "</div>"
            ],
            "text/plain": [
              "   0    1  2\n",
              "0 -2  0.0  1\n",
              "1 -1  2.0  3\n",
              "2  0  4.0  5\n",
              "3  1  6.0  7\n",
              "4  2  8.0  9"
            ]
          },
          "execution_count": 38,
          "metadata": {},
          "output_type": "execute_result"
        }
      ],
      "source": [
        "fill_with_median[1].fillna(fill_with_median[1].median(),inplace=True)\n",
        "fill_with_median"
      ]
    },
    {
      "cell_type": "markdown",
      "metadata": {
        "id": "8JtQ53GSkKWC"
      },
      "source": [
        "Como podemos ver, el valor de NaN ha sido reemplazado por la mediana de la columna"
      ]
    },
    {
      "cell_type": "code",
      "execution_count": 39,
      "metadata": {
        "colab": {
          "base_uri": "https://localhost:8080/"
        },
        "id": "0ybtWLDdgRsG",
        "outputId": "b8c238ef-6024-4ee2-be2b-aa1f0fcac61d",
        "trusted": false
      },
      "outputs": [
        {
          "data": {
            "text/plain": [
              "a    1.0\n",
              "b    NaN\n",
              "c    2.0\n",
              "d    NaN\n",
              "e    3.0\n",
              "dtype: float64"
            ]
          },
          "execution_count": 39,
          "metadata": {},
          "output_type": "execute_result"
        }
      ],
      "source": [
        "example5 = pd.Series([1, np.nan, 2, None, 3], index=list('abcde'))\n",
        "example5"
      ]
    },
    {
      "cell_type": "markdown",
      "metadata": {
        "id": "yrsigxRggRsH"
      },
      "source": [
        "You can fill all of the null entries with a single value, such as `0`:"
      ]
    },
    {
      "cell_type": "code",
      "execution_count": 40,
      "metadata": {
        "colab": {
          "base_uri": "https://localhost:8080/"
        },
        "id": "KXMIPsQdgRsH",
        "outputId": "aeedfa0a-a421-4c2f-cb0d-183ce8f0c91d",
        "trusted": false
      },
      "outputs": [
        {
          "data": {
            "text/plain": [
              "a    1.0\n",
              "b    0.0\n",
              "c    2.0\n",
              "d    0.0\n",
              "e    3.0\n",
              "dtype: float64"
            ]
          },
          "execution_count": 40,
          "metadata": {},
          "output_type": "execute_result"
        }
      ],
      "source": [
        "example5.fillna(0)"
      ]
    },
    {
      "cell_type": "markdown",
      "metadata": {
        "id": "RRlI5f_hkfKe"
      },
      "source": [
        "> Puntos clave:\n",
        "1. El llenado de los valores faltantes debe hacerse cuando hay menos datos o hay una estrategia para completar los datos que faltan.\n",
        "2. El conocimiento del dominio se puede utilizar para completar los valores faltantes aproximándolos.\n",
        "3. Para los datos categóricos, en su mayoría, los valores faltantes se sustituyen por el modo de la columna. \n",
        "4. En el caso de los datos numéricos, los valores que faltan suelen rellenarse con la media (para conjuntos de datos normalizados) o la mediana de las columnas."
      ]
    },
    {
      "cell_type": "markdown",
      "metadata": {
        "id": "FI9MmqFJgRsH"
      },
      "source": [
        "### Ejercicio:"
      ]
    },
    {
      "cell_type": "code",
      "execution_count": 41,
      "metadata": {
        "collapsed": true,
        "id": "af-ezpXdgRsH",
        "trusted": false
      },
      "outputs": [],
      "source": [
        "# ¿Qué sucede si intenta rellenar valores nulos con una cadena, como ''?"
      ]
    },
    {
      "cell_type": "markdown",
      "metadata": {
        "id": "kq3hw1kLgRsI"
      },
      "source": [
        "Puede **rellenar hacia adelante** valores nulos, que es usar el último valor válido para rellenar un valor nulo:"
      ]
    },
    {
      "cell_type": "code",
      "execution_count": 42,
      "metadata": {
        "colab": {
          "base_uri": "https://localhost:8080/"
        },
        "id": "vO3BuNrggRsI",
        "outputId": "e2bc591b-0b48-4e88-ee65-754f2737c196",
        "trusted": false
      },
      "outputs": [
        {
          "data": {
            "text/plain": [
              "a    1.0\n",
              "b    1.0\n",
              "c    2.0\n",
              "d    2.0\n",
              "e    3.0\n",
              "dtype: float64"
            ]
          },
          "execution_count": 42,
          "metadata": {},
          "output_type": "execute_result"
        }
      ],
      "source": [
        "example5.fillna(method='ffill')"
      ]
    },
    {
      "cell_type": "markdown",
      "metadata": {
        "id": "nDXeYuHzgRsI"
      },
      "source": [
        "Puede **rellenar hacia adelante** valores nulos, que es usar el último valor válido para rellenar un valor nulo:"
      ]
    },
    {
      "cell_type": "code",
      "execution_count": 43,
      "metadata": {
        "colab": {
          "base_uri": "https://localhost:8080/"
        },
        "id": "4M5onHcEgRsI",
        "outputId": "8f32b185-40dd-4a9f-bd85-54d6b6a414fe",
        "trusted": false
      },
      "outputs": [
        {
          "data": {
            "text/plain": [
              "a    1.0\n",
              "b    2.0\n",
              "c    2.0\n",
              "d    3.0\n",
              "e    3.0\n",
              "dtype: float64"
            ]
          },
          "execution_count": 43,
          "metadata": {},
          "output_type": "execute_result"
        }
      ],
      "source": [
        "example5.fillna(method='bfill')"
      ]
    },
    {
      "cell_type": "markdown",
      "metadata": {
        "collapsed": true,
        "id": "MbBzTom5gRsI"
      },
      "source": [
        "Como puede adivinar, esto funciona igual con DataFrames, pero también puede especificar un 'eje' a lo largo del cual rellenar los valores nulos:"
      ]
    },
    {
      "cell_type": "code",
      "execution_count": 44,
      "metadata": {
        "colab": {
          "base_uri": "https://localhost:8080/",
          "height": 142
        },
        "id": "aRpIvo4ZgRsI",
        "outputId": "905a980a-a808-4eca-d0ba-224bd7d85955",
        "trusted": false
      },
      "outputs": [
        {
          "data": {
            "text/html": [
              "<div>\n",
              "<style scoped>\n",
              "    .dataframe tbody tr th:only-of-type {\n",
              "        vertical-align: middle;\n",
              "    }\n",
              "\n",
              "    .dataframe tbody tr th {\n",
              "        vertical-align: top;\n",
              "    }\n",
              "\n",
              "    .dataframe thead th {\n",
              "        text-align: right;\n",
              "    }\n",
              "</style>\n",
              "<table border=\"1\" class=\"dataframe\">\n",
              "  <thead>\n",
              "    <tr style=\"text-align: right;\">\n",
              "      <th></th>\n",
              "      <th>0</th>\n",
              "      <th>1</th>\n",
              "      <th>2</th>\n",
              "      <th>3</th>\n",
              "    </tr>\n",
              "  </thead>\n",
              "  <tbody>\n",
              "    <tr>\n",
              "      <th>0</th>\n",
              "      <td>1.0</td>\n",
              "      <td>NaN</td>\n",
              "      <td>7</td>\n",
              "      <td>NaN</td>\n",
              "    </tr>\n",
              "    <tr>\n",
              "      <th>1</th>\n",
              "      <td>2.0</td>\n",
              "      <td>5.0</td>\n",
              "      <td>8</td>\n",
              "      <td>NaN</td>\n",
              "    </tr>\n",
              "    <tr>\n",
              "      <th>2</th>\n",
              "      <td>NaN</td>\n",
              "      <td>6.0</td>\n",
              "      <td>9</td>\n",
              "      <td>NaN</td>\n",
              "    </tr>\n",
              "  </tbody>\n",
              "</table>\n",
              "</div>"
            ],
            "text/plain": [
              "     0    1  2   3\n",
              "0  1.0  NaN  7 NaN\n",
              "1  2.0  5.0  8 NaN\n",
              "2  NaN  6.0  9 NaN"
            ]
          },
          "execution_count": 44,
          "metadata": {},
          "output_type": "execute_result"
        }
      ],
      "source": [
        "example4"
      ]
    },
    {
      "cell_type": "code",
      "execution_count": 45,
      "metadata": {
        "colab": {
          "base_uri": "https://localhost:8080/",
          "height": 142
        },
        "id": "VM1qtACAgRsI",
        "outputId": "71f2ad28-9b4e-4ff4-f5c3-e731eb489ade",
        "trusted": false
      },
      "outputs": [
        {
          "data": {
            "text/html": [
              "<div>\n",
              "<style scoped>\n",
              "    .dataframe tbody tr th:only-of-type {\n",
              "        vertical-align: middle;\n",
              "    }\n",
              "\n",
              "    .dataframe tbody tr th {\n",
              "        vertical-align: top;\n",
              "    }\n",
              "\n",
              "    .dataframe thead th {\n",
              "        text-align: right;\n",
              "    }\n",
              "</style>\n",
              "<table border=\"1\" class=\"dataframe\">\n",
              "  <thead>\n",
              "    <tr style=\"text-align: right;\">\n",
              "      <th></th>\n",
              "      <th>0</th>\n",
              "      <th>1</th>\n",
              "      <th>2</th>\n",
              "      <th>3</th>\n",
              "    </tr>\n",
              "  </thead>\n",
              "  <tbody>\n",
              "    <tr>\n",
              "      <th>0</th>\n",
              "      <td>1.0</td>\n",
              "      <td>1.0</td>\n",
              "      <td>7.0</td>\n",
              "      <td>7.0</td>\n",
              "    </tr>\n",
              "    <tr>\n",
              "      <th>1</th>\n",
              "      <td>2.0</td>\n",
              "      <td>5.0</td>\n",
              "      <td>8.0</td>\n",
              "      <td>8.0</td>\n",
              "    </tr>\n",
              "    <tr>\n",
              "      <th>2</th>\n",
              "      <td>NaN</td>\n",
              "      <td>6.0</td>\n",
              "      <td>9.0</td>\n",
              "      <td>9.0</td>\n",
              "    </tr>\n",
              "  </tbody>\n",
              "</table>\n",
              "</div>"
            ],
            "text/plain": [
              "     0    1    2    3\n",
              "0  1.0  1.0  7.0  7.0\n",
              "1  2.0  5.0  8.0  8.0\n",
              "2  NaN  6.0  9.0  9.0"
            ]
          },
          "execution_count": 45,
          "metadata": {},
          "output_type": "execute_result"
        }
      ],
      "source": [
        "example4.fillna(method='ffill', axis=1)"
      ]
    },
    {
      "cell_type": "markdown",
      "metadata": {
        "id": "ZeMc-I1EgRsI"
      },
      "source": [
        "Tenga en cuenta que cuando un valor anterior no está disponible para rellenar, el valor nulo permanece."
      ]
    },
    {
      "cell_type": "markdown",
      "metadata": {
        "id": "eeAoOU0RgRsJ"
      },
      "source": [
        "### Exercise:"
      ]
    },
    {
      "cell_type": "code",
      "execution_count": 57,
      "metadata": {
        "collapsed": true,
        "id": "e8S-CjW8gRsJ",
        "trusted": false
      },
      "outputs": [],
      "source": [
        "# ¿Qué salida produce example4.fillna(method='bfill', axis=1)?\n",
        "# ¿Qué pasa con example4.fillna(method='ffill') o example4.fillna(method='bfill')?\n",
        "# ¿Se te ocurre un fragmento de código más largo para escribir que pueda rellenar todos los valores nulos del ejemplo4?\n"
      ]
    },
    {
      "cell_type": "markdown",
      "metadata": {
        "id": "YHgy0lIrgRsJ"
      },
      "source": [
        "Puedes ser creativo sobre cómo usas `fillna`. Por ejemplo, veamos el `example4` de nuevo, pero esta vez vamos a rellenar los valores que faltan con el promedio de todos los valores de la clase `DataFrame`:"
      ]
    },
    {
      "cell_type": "code",
      "execution_count": 47,
      "metadata": {
        "colab": {
          "base_uri": "https://localhost:8080/",
          "height": 142
        },
        "id": "OtYVErEygRsJ",
        "outputId": "708b1e67-45ca-44bf-a5ee-8b2de09ece73",
        "trusted": false
      },
      "outputs": [
        {
          "data": {
            "text/html": [
              "<div>\n",
              "<style scoped>\n",
              "    .dataframe tbody tr th:only-of-type {\n",
              "        vertical-align: middle;\n",
              "    }\n",
              "\n",
              "    .dataframe tbody tr th {\n",
              "        vertical-align: top;\n",
              "    }\n",
              "\n",
              "    .dataframe thead th {\n",
              "        text-align: right;\n",
              "    }\n",
              "</style>\n",
              "<table border=\"1\" class=\"dataframe\">\n",
              "  <thead>\n",
              "    <tr style=\"text-align: right;\">\n",
              "      <th></th>\n",
              "      <th>0</th>\n",
              "      <th>1</th>\n",
              "      <th>2</th>\n",
              "      <th>3</th>\n",
              "    </tr>\n",
              "  </thead>\n",
              "  <tbody>\n",
              "    <tr>\n",
              "      <th>0</th>\n",
              "      <td>1.0</td>\n",
              "      <td>5.5</td>\n",
              "      <td>7</td>\n",
              "      <td>NaN</td>\n",
              "    </tr>\n",
              "    <tr>\n",
              "      <th>1</th>\n",
              "      <td>2.0</td>\n",
              "      <td>5.0</td>\n",
              "      <td>8</td>\n",
              "      <td>NaN</td>\n",
              "    </tr>\n",
              "    <tr>\n",
              "      <th>2</th>\n",
              "      <td>1.5</td>\n",
              "      <td>6.0</td>\n",
              "      <td>9</td>\n",
              "      <td>NaN</td>\n",
              "    </tr>\n",
              "  </tbody>\n",
              "</table>\n",
              "</div>"
            ],
            "text/plain": [
              "     0    1  2   3\n",
              "0  1.0  5.5  7 NaN\n",
              "1  2.0  5.0  8 NaN\n",
              "2  1.5  6.0  9 NaN"
            ]
          },
          "execution_count": 47,
          "metadata": {},
          "output_type": "execute_result"
        }
      ],
      "source": [
        "example4.fillna(example4.mean())"
      ]
    },
    {
      "cell_type": "markdown",
      "metadata": {
        "id": "zpMvCkLSgRsJ"
      },
      "source": [
        "Tenga en cuenta que la columna 3 sigue sin valor: la dirección predeterminada es rellenar los valores por filas.\n",
        "\n",
        ">**Conclusión:** Hay varias formas de tratar los valores faltantes en los conjuntos de datos. La estrategia específica que utilice (eliminarlos, reemplazarlos o incluso cómo reemplazarlos) debe estar dictada por los detalles de esos datos. Desarrollará una mejor idea de cómo tratar los valores faltantes cuanto más maneje e interactúe con los conjuntos de datos."
      ]
    },
    {
      "cell_type": "markdown",
      "metadata": {
        "id": "bauDnESIl9FH"
      },
      "source": [
        "### Codificación de datos categóricos\n",
        "\n",
        "Los modelos de aprendizaje automático solo se ocupan de los números y de cualquier forma de datos numéricos. No podrá diferenciar entre un Sí y un No, pero sí podrá distinguir entre 0 y 1. Por lo tanto, después de completar los valores que faltan, debemos codificar los datos categóricos de alguna forma numérica para que el modelo los entienda.\n",
        "\n",
        "La codificación se puede realizar de dos maneras. Hablaremos de ellos a continuación.\n"
      ]
    },
    {
      "cell_type": "markdown",
      "metadata": {
        "id": "uDq9SxB7mu5i"
      },
      "source": [
        "**CODIFICACIÓN DE ETIQUETAS**\n",
        "\n",
        "\n",
        "La codificación de etiquetas consiste básicamente en convertir cada categoría en un número. Por ejemplo, supongamos que tenemos un conjunto de datos de pasajeros de aerolíneas y hay una columna que contiene su clase entre las siguientes ['clase ejecutiva', 'clase económica', 'primera clase']. Si la codificación de etiquetas se realiza en esto, se transformaría en [0,1,2]. Veamos un ejemplo a través del código. Como estaríamos aprendiendo `scikit-learn`. En los próximos cuadernos, no lo usaremos aquí."
      ]
    },
    {
      "cell_type": "code",
      "execution_count": 48,
      "metadata": {
        "colab": {
          "base_uri": "https://localhost:8080/",
          "height": 235
        },
        "id": "1vGz7uZyoWHL",
        "outputId": "9e252855-d193-4103-a54d-028ea7787b34"
      },
      "outputs": [
        {
          "data": {
            "text/html": [
              "<div>\n",
              "<style scoped>\n",
              "    .dataframe tbody tr th:only-of-type {\n",
              "        vertical-align: middle;\n",
              "    }\n",
              "\n",
              "    .dataframe tbody tr th {\n",
              "        vertical-align: top;\n",
              "    }\n",
              "\n",
              "    .dataframe thead th {\n",
              "        text-align: right;\n",
              "    }\n",
              "</style>\n",
              "<table border=\"1\" class=\"dataframe\">\n",
              "  <thead>\n",
              "    <tr style=\"text-align: right;\">\n",
              "      <th></th>\n",
              "      <th>ID</th>\n",
              "      <th>class</th>\n",
              "    </tr>\n",
              "  </thead>\n",
              "  <tbody>\n",
              "    <tr>\n",
              "      <th>0</th>\n",
              "      <td>10</td>\n",
              "      <td>business class</td>\n",
              "    </tr>\n",
              "    <tr>\n",
              "      <th>1</th>\n",
              "      <td>20</td>\n",
              "      <td>first class</td>\n",
              "    </tr>\n",
              "    <tr>\n",
              "      <th>2</th>\n",
              "      <td>30</td>\n",
              "      <td>economy class</td>\n",
              "    </tr>\n",
              "    <tr>\n",
              "      <th>3</th>\n",
              "      <td>40</td>\n",
              "      <td>economy class</td>\n",
              "    </tr>\n",
              "    <tr>\n",
              "      <th>4</th>\n",
              "      <td>50</td>\n",
              "      <td>economy class</td>\n",
              "    </tr>\n",
              "    <tr>\n",
              "      <th>5</th>\n",
              "      <td>60</td>\n",
              "      <td>business class</td>\n",
              "    </tr>\n",
              "  </tbody>\n",
              "</table>\n",
              "</div>"
            ],
            "text/plain": [
              "   ID           class\n",
              "0  10  business class\n",
              "1  20     first class\n",
              "2  30   economy class\n",
              "3  40   economy class\n",
              "4  50   economy class\n",
              "5  60  business class"
            ]
          },
          "execution_count": 48,
          "metadata": {},
          "output_type": "execute_result"
        }
      ],
      "source": [
        "label = pd.DataFrame([\n",
        "                      [10,'business class'],\n",
        "                      [20,'first class'],\n",
        "                      [30, 'economy class'],\n",
        "                      [40, 'economy class'],\n",
        "                      [50, 'economy class'],\n",
        "                      [60, 'business class']\n",
        "],columns=['ID','class'])\n",
        "label"
      ]
    },
    {
      "cell_type": "markdown",
      "metadata": {
        "id": "IDHnkwTYov-h"
      },
      "source": [
        "Para realizar la codificación de etiquetas en la 1ª columna, primero tenemos que describir un mapeo de cada clase a un número, antes de reemplazar"
      ]
    },
    {
      "cell_type": "code",
      "execution_count": 49,
      "metadata": {
        "colab": {
          "base_uri": "https://localhost:8080/",
          "height": 235
        },
        "id": "ZC5URJG3o1ES",
        "outputId": "aab0f1e7-e0f3-4c14-8459-9f9168c85437"
      },
      "outputs": [
        {
          "data": {
            "text/html": [
              "<div>\n",
              "<style scoped>\n",
              "    .dataframe tbody tr th:only-of-type {\n",
              "        vertical-align: middle;\n",
              "    }\n",
              "\n",
              "    .dataframe tbody tr th {\n",
              "        vertical-align: top;\n",
              "    }\n",
              "\n",
              "    .dataframe thead th {\n",
              "        text-align: right;\n",
              "    }\n",
              "</style>\n",
              "<table border=\"1\" class=\"dataframe\">\n",
              "  <thead>\n",
              "    <tr style=\"text-align: right;\">\n",
              "      <th></th>\n",
              "      <th>ID</th>\n",
              "      <th>class</th>\n",
              "    </tr>\n",
              "  </thead>\n",
              "  <tbody>\n",
              "    <tr>\n",
              "      <th>0</th>\n",
              "      <td>10</td>\n",
              "      <td>0</td>\n",
              "    </tr>\n",
              "    <tr>\n",
              "      <th>1</th>\n",
              "      <td>20</td>\n",
              "      <td>2</td>\n",
              "    </tr>\n",
              "    <tr>\n",
              "      <th>2</th>\n",
              "      <td>30</td>\n",
              "      <td>1</td>\n",
              "    </tr>\n",
              "    <tr>\n",
              "      <th>3</th>\n",
              "      <td>40</td>\n",
              "      <td>1</td>\n",
              "    </tr>\n",
              "    <tr>\n",
              "      <th>4</th>\n",
              "      <td>50</td>\n",
              "      <td>1</td>\n",
              "    </tr>\n",
              "    <tr>\n",
              "      <th>5</th>\n",
              "      <td>60</td>\n",
              "      <td>0</td>\n",
              "    </tr>\n",
              "  </tbody>\n",
              "</table>\n",
              "</div>"
            ],
            "text/plain": [
              "   ID  class\n",
              "0  10      0\n",
              "1  20      2\n",
              "2  30      1\n",
              "3  40      1\n",
              "4  50      1\n",
              "5  60      0"
            ]
          },
          "execution_count": 49,
          "metadata": {},
          "output_type": "execute_result"
        }
      ],
      "source": [
        "class_labels = {'business class':0,'economy class':1,'first class':2}\n",
        "label['class'] = label['class'].replace(class_labels)\n",
        "label"
      ]
    },
    {
      "cell_type": "markdown",
      "metadata": {
        "id": "ftnF-TyapOPt"
      },
      "source": [
        "Como podemos ver, el resultado coincide con lo que pensábamos que sucedería. Entonces, ¿cuándo usamos la codificación de etiquetas? La codificación de etiquetas se utiliza en uno o ambos de los siguientes casos:\n",
        "1. Cuando el número de categorías es grande\n",
        "2. Cuando las categorías están en orden."
      ]
    },
    {
      "cell_type": "markdown",
      "metadata": {
        "id": "eQPAPVwsqWT7"
      },
      "source": [
        "**UNA CODIFICACIÓN ACTIVA**\n",
        "\n",
        "Otro tipo de codificación es One Hot Encoding. En este tipo de codificación, cada categoría de la columna se agrega como una columna independiente y cada punto de datos obtendrá un 0 o un 1 en función de si contiene esa categoría. Por lo tanto, si hay n categorías diferentes, se anexarán n columnas al marco de datos.\n",
        "\n",
        "Por ejemplo, tomemos el mismo ejemplo de la clase de avión. Las categorías fueron: ['clase ejecutiva', 'clase económica', 'primera clase'] . Por lo tanto, si realizamos una codificación activa, se agregarán las siguientes tres columnas al conjunto de datos: ['clase class_business','class_economy clase','class_first clase']."
      ]
    },
    {
      "cell_type": "code",
      "execution_count": 50,
      "metadata": {
        "colab": {
          "base_uri": "https://localhost:8080/",
          "height": 235
        },
        "id": "ZM0eVh0ArKUL",
        "outputId": "83238a76-b3a5-418d-c0b6-605b02b6891b"
      },
      "outputs": [
        {
          "data": {
            "text/html": [
              "<div>\n",
              "<style scoped>\n",
              "    .dataframe tbody tr th:only-of-type {\n",
              "        vertical-align: middle;\n",
              "    }\n",
              "\n",
              "    .dataframe tbody tr th {\n",
              "        vertical-align: top;\n",
              "    }\n",
              "\n",
              "    .dataframe thead th {\n",
              "        text-align: right;\n",
              "    }\n",
              "</style>\n",
              "<table border=\"1\" class=\"dataframe\">\n",
              "  <thead>\n",
              "    <tr style=\"text-align: right;\">\n",
              "      <th></th>\n",
              "      <th>ID</th>\n",
              "      <th>class</th>\n",
              "    </tr>\n",
              "  </thead>\n",
              "  <tbody>\n",
              "    <tr>\n",
              "      <th>0</th>\n",
              "      <td>10</td>\n",
              "      <td>business class</td>\n",
              "    </tr>\n",
              "    <tr>\n",
              "      <th>1</th>\n",
              "      <td>20</td>\n",
              "      <td>first class</td>\n",
              "    </tr>\n",
              "    <tr>\n",
              "      <th>2</th>\n",
              "      <td>30</td>\n",
              "      <td>economy class</td>\n",
              "    </tr>\n",
              "    <tr>\n",
              "      <th>3</th>\n",
              "      <td>40</td>\n",
              "      <td>economy class</td>\n",
              "    </tr>\n",
              "    <tr>\n",
              "      <th>4</th>\n",
              "      <td>50</td>\n",
              "      <td>economy class</td>\n",
              "    </tr>\n",
              "    <tr>\n",
              "      <th>5</th>\n",
              "      <td>60</td>\n",
              "      <td>business class</td>\n",
              "    </tr>\n",
              "  </tbody>\n",
              "</table>\n",
              "</div>"
            ],
            "text/plain": [
              "   ID           class\n",
              "0  10  business class\n",
              "1  20     first class\n",
              "2  30   economy class\n",
              "3  40   economy class\n",
              "4  50   economy class\n",
              "5  60  business class"
            ]
          },
          "execution_count": 50,
          "metadata": {},
          "output_type": "execute_result"
        }
      ],
      "source": [
        "one_hot = pd.DataFrame([\n",
        "                      [10,'business class'],\n",
        "                      [20,'first class'],\n",
        "                      [30, 'economy class'],\n",
        "                      [40, 'economy class'],\n",
        "                      [50, 'economy class'],\n",
        "                      [60, 'business class']\n",
        "],columns=['ID','class'])\n",
        "one_hot"
      ]
    },
    {
      "cell_type": "markdown",
      "metadata": {
        "id": "aVnZ7paDrWmb"
      },
      "source": [
        "Vamos a realizar una codificación activa en la 1ª columna"
      ]
    },
    {
      "cell_type": "code",
      "execution_count": 51,
      "metadata": {
        "id": "RUPxf7egrYKr"
      },
      "outputs": [],
      "source": [
        "one_hot_data = pd.get_dummies(one_hot,columns=['class'])"
      ]
    },
    {
      "cell_type": "code",
      "execution_count": 52,
      "metadata": {
        "colab": {
          "base_uri": "https://localhost:8080/",
          "height": 235
        },
        "id": "TM37pHsFr4ge",
        "outputId": "7be15f53-79b2-447a-979c-822658339a9e"
      },
      "outputs": [
        {
          "data": {
            "text/html": [
              "<div>\n",
              "<style scoped>\n",
              "    .dataframe tbody tr th:only-of-type {\n",
              "        vertical-align: middle;\n",
              "    }\n",
              "\n",
              "    .dataframe tbody tr th {\n",
              "        vertical-align: top;\n",
              "    }\n",
              "\n",
              "    .dataframe thead th {\n",
              "        text-align: right;\n",
              "    }\n",
              "</style>\n",
              "<table border=\"1\" class=\"dataframe\">\n",
              "  <thead>\n",
              "    <tr style=\"text-align: right;\">\n",
              "      <th></th>\n",
              "      <th>ID</th>\n",
              "      <th>class_business class</th>\n",
              "      <th>class_economy class</th>\n",
              "      <th>class_first class</th>\n",
              "    </tr>\n",
              "  </thead>\n",
              "  <tbody>\n",
              "    <tr>\n",
              "      <th>0</th>\n",
              "      <td>10</td>\n",
              "      <td>True</td>\n",
              "      <td>False</td>\n",
              "      <td>False</td>\n",
              "    </tr>\n",
              "    <tr>\n",
              "      <th>1</th>\n",
              "      <td>20</td>\n",
              "      <td>False</td>\n",
              "      <td>False</td>\n",
              "      <td>True</td>\n",
              "    </tr>\n",
              "    <tr>\n",
              "      <th>2</th>\n",
              "      <td>30</td>\n",
              "      <td>False</td>\n",
              "      <td>True</td>\n",
              "      <td>False</td>\n",
              "    </tr>\n",
              "    <tr>\n",
              "      <th>3</th>\n",
              "      <td>40</td>\n",
              "      <td>False</td>\n",
              "      <td>True</td>\n",
              "      <td>False</td>\n",
              "    </tr>\n",
              "    <tr>\n",
              "      <th>4</th>\n",
              "      <td>50</td>\n",
              "      <td>False</td>\n",
              "      <td>True</td>\n",
              "      <td>False</td>\n",
              "    </tr>\n",
              "    <tr>\n",
              "      <th>5</th>\n",
              "      <td>60</td>\n",
              "      <td>True</td>\n",
              "      <td>False</td>\n",
              "      <td>False</td>\n",
              "    </tr>\n",
              "  </tbody>\n",
              "</table>\n",
              "</div>"
            ],
            "text/plain": [
              "   ID  class_business class  class_economy class  class_first class\n",
              "0  10                  True                False              False\n",
              "1  20                 False                False               True\n",
              "2  30                 False                 True              False\n",
              "3  40                 False                 True              False\n",
              "4  50                 False                 True              False\n",
              "5  60                  True                False              False"
            ]
          },
          "execution_count": 52,
          "metadata": {},
          "output_type": "execute_result"
        }
      ],
      "source": [
        "one_hot_data"
      ]
    },
    {
      "cell_type": "markdown",
      "metadata": {
        "id": "_zXRLOjXujdA"
      },
      "source": [
        "Cada columna codificada en caliente contiene 0 o 1, que especifica si esa categoría existe para ese punto de datos."
      ]
    },
    {
      "cell_type": "markdown",
      "metadata": {
        "id": "bDnC4NQOu0qr"
      },
      "source": [
        "¿Cuándo usamos una codificación activa? Se utiliza una codificación activa en uno o ambos de los siguientes casos:\n",
        "\n",
        "1. Cuando el número de categorías y el tamaño del conjunto de datos es menor.\n",
        "2. Cuando las categorías no siguen ningún orden en particular."
      ]
    },
    {
      "cell_type": "markdown",
      "metadata": {
        "id": "XnUmci_4uvyu"
      },
      "source": [
        "> Puntos clave:\n",
        "1. La codificación se realiza para convertir datos no numéricos en datos numéricos.\n",
        "2. Hay dos tipos de codificación: codificación de etiquetas y codificación One Hot, las cuales se pueden realizar en función de las demandas del conjunto de datos."
      ]
    },
    {
      "cell_type": "markdown",
      "metadata": {
        "id": "K8UXOJYRgRsJ"
      },
      "source": [
        "## Eliminación de datos duplicados\n",
        "\n",
        "> **Objetivo de aprendizaje:** Al final de esta subsección, debería sentirse cómodo identificando y eliminando valores duplicados de DataFrames.\n",
        "\n",
        "Además de los datos que faltan, a menudo encontrará datos duplicados en conjuntos de datos del mundo real. Afortunadamente, pandas proporciona un medio fácil de detectar y eliminar entradas duplicadas."
      ]
    },
    {
      "cell_type": "markdown",
      "metadata": {
        "id": "qrEG-Wa0gRsJ"
      },
      "source": [
        "### Identificación de duplicados: `duplicated`\n",
        "\n",
        "Puede detectar fácilmente los valores duplicados utilizando el comando `duplicated` en pandas, que devuelve una máscara booleana que indica si una entrada en un `DataFrame` es un duplicado de uno anterior. Vamos a crear otro ejemplo `DataFrame` para ver esto en acción."
      ]
    },
    {
      "cell_type": "code",
      "execution_count": 53,
      "metadata": {
        "colab": {
          "base_uri": "https://localhost:8080/",
          "height": 204
        },
        "id": "ZLu6FEnZgRsJ",
        "outputId": "376512d1-d842-4db1-aea3-71052aeeecaf",
        "trusted": false
      },
      "outputs": [
        {
          "data": {
            "text/html": [
              "<div>\n",
              "<style scoped>\n",
              "    .dataframe tbody tr th:only-of-type {\n",
              "        vertical-align: middle;\n",
              "    }\n",
              "\n",
              "    .dataframe tbody tr th {\n",
              "        vertical-align: top;\n",
              "    }\n",
              "\n",
              "    .dataframe thead th {\n",
              "        text-align: right;\n",
              "    }\n",
              "</style>\n",
              "<table border=\"1\" class=\"dataframe\">\n",
              "  <thead>\n",
              "    <tr style=\"text-align: right;\">\n",
              "      <th></th>\n",
              "      <th>letters</th>\n",
              "      <th>numbers</th>\n",
              "    </tr>\n",
              "  </thead>\n",
              "  <tbody>\n",
              "    <tr>\n",
              "      <th>0</th>\n",
              "      <td>A</td>\n",
              "      <td>1</td>\n",
              "    </tr>\n",
              "    <tr>\n",
              "      <th>1</th>\n",
              "      <td>B</td>\n",
              "      <td>2</td>\n",
              "    </tr>\n",
              "    <tr>\n",
              "      <th>2</th>\n",
              "      <td>A</td>\n",
              "      <td>1</td>\n",
              "    </tr>\n",
              "    <tr>\n",
              "      <th>3</th>\n",
              "      <td>B</td>\n",
              "      <td>3</td>\n",
              "    </tr>\n",
              "    <tr>\n",
              "      <th>4</th>\n",
              "      <td>B</td>\n",
              "      <td>3</td>\n",
              "    </tr>\n",
              "  </tbody>\n",
              "</table>\n",
              "</div>"
            ],
            "text/plain": [
              "  letters  numbers\n",
              "0       A        1\n",
              "1       B        2\n",
              "2       A        1\n",
              "3       B        3\n",
              "4       B        3"
            ]
          },
          "execution_count": 53,
          "metadata": {},
          "output_type": "execute_result"
        }
      ],
      "source": [
        "example6 = pd.DataFrame({'letters': ['A','B'] * 2 + ['B'],\n",
        "                         'numbers': [1, 2, 1, 3, 3]})\n",
        "example6"
      ]
    },
    {
      "cell_type": "code",
      "execution_count": 54,
      "metadata": {
        "colab": {
          "base_uri": "https://localhost:8080/"
        },
        "id": "cIduB5oBgRsK",
        "outputId": "3da27b3d-4d69-4e1d-bb52-0af21bae87f2",
        "trusted": false
      },
      "outputs": [
        {
          "data": {
            "text/plain": [
              "0    False\n",
              "1    False\n",
              "2     True\n",
              "3    False\n",
              "4     True\n",
              "dtype: bool"
            ]
          },
          "execution_count": 54,
          "metadata": {},
          "output_type": "execute_result"
        }
      ],
      "source": [
        "example6.duplicated()"
      ]
    },
    {
      "cell_type": "markdown",
      "metadata": {
        "id": "0eDRJD4SgRsK"
      },
      "source": [
        "### Eliminación de duplicados: `drop_duplicates`\n",
        "`drop_duplicates` simplemente devuelve una copia de los datos para los que todos los valores `duplicados` son `False`:"
      ]
    },
    {
      "cell_type": "code",
      "execution_count": 55,
      "metadata": {
        "colab": {
          "base_uri": "https://localhost:8080/",
          "height": 142
        },
        "id": "w_YPpqIqgRsK",
        "outputId": "ac66bd2f-8671-4744-87f5-8b8d96553dea",
        "trusted": false
      },
      "outputs": [
        {
          "data": {
            "text/html": [
              "<div>\n",
              "<style scoped>\n",
              "    .dataframe tbody tr th:only-of-type {\n",
              "        vertical-align: middle;\n",
              "    }\n",
              "\n",
              "    .dataframe tbody tr th {\n",
              "        vertical-align: top;\n",
              "    }\n",
              "\n",
              "    .dataframe thead th {\n",
              "        text-align: right;\n",
              "    }\n",
              "</style>\n",
              "<table border=\"1\" class=\"dataframe\">\n",
              "  <thead>\n",
              "    <tr style=\"text-align: right;\">\n",
              "      <th></th>\n",
              "      <th>letters</th>\n",
              "      <th>numbers</th>\n",
              "    </tr>\n",
              "  </thead>\n",
              "  <tbody>\n",
              "    <tr>\n",
              "      <th>0</th>\n",
              "      <td>A</td>\n",
              "      <td>1</td>\n",
              "    </tr>\n",
              "    <tr>\n",
              "      <th>1</th>\n",
              "      <td>B</td>\n",
              "      <td>2</td>\n",
              "    </tr>\n",
              "    <tr>\n",
              "      <th>3</th>\n",
              "      <td>B</td>\n",
              "      <td>3</td>\n",
              "    </tr>\n",
              "  </tbody>\n",
              "</table>\n",
              "</div>"
            ],
            "text/plain": [
              "  letters  numbers\n",
              "0       A        1\n",
              "1       B        2\n",
              "3       B        3"
            ]
          },
          "execution_count": 55,
          "metadata": {},
          "output_type": "execute_result"
        }
      ],
      "source": [
        "example6.drop_duplicates()"
      ]
    },
    {
      "cell_type": "markdown",
      "metadata": {
        "id": "69AqoCZAgRsK"
      },
      "source": [
        "Ambos `duplicated` y`drop_duplicates`de forma predeterminada para considerar todas las columnas, pero puede especificar que examinen solo un subconjunto de columnas en su `DataFrame`:"
      ]
    },
    {
      "cell_type": "code",
      "execution_count": 56,
      "metadata": {
        "colab": {
          "base_uri": "https://localhost:8080/",
          "height": 111
        },
        "id": "BILjDs67gRsK",
        "outputId": "ef6dcc08-db8b-4352-c44e-5aa9e2bec0d3",
        "trusted": false
      },
      "outputs": [
        {
          "data": {
            "text/html": [
              "<div>\n",
              "<style scoped>\n",
              "    .dataframe tbody tr th:only-of-type {\n",
              "        vertical-align: middle;\n",
              "    }\n",
              "\n",
              "    .dataframe tbody tr th {\n",
              "        vertical-align: top;\n",
              "    }\n",
              "\n",
              "    .dataframe thead th {\n",
              "        text-align: right;\n",
              "    }\n",
              "</style>\n",
              "<table border=\"1\" class=\"dataframe\">\n",
              "  <thead>\n",
              "    <tr style=\"text-align: right;\">\n",
              "      <th></th>\n",
              "      <th>letters</th>\n",
              "      <th>numbers</th>\n",
              "    </tr>\n",
              "  </thead>\n",
              "  <tbody>\n",
              "    <tr>\n",
              "      <th>0</th>\n",
              "      <td>A</td>\n",
              "      <td>1</td>\n",
              "    </tr>\n",
              "    <tr>\n",
              "      <th>1</th>\n",
              "      <td>B</td>\n",
              "      <td>2</td>\n",
              "    </tr>\n",
              "  </tbody>\n",
              "</table>\n",
              "</div>"
            ],
            "text/plain": [
              "  letters  numbers\n",
              "0       A        1\n",
              "1       B        2"
            ]
          },
          "execution_count": 56,
          "metadata": {},
          "output_type": "execute_result"
        }
      ],
      "source": [
        "example6.drop_duplicates(['letters'])"
      ]
    },
    {
      "cell_type": "markdown",
      "metadata": {
        "id": "GvX4og1EgRsL"
      },
      "source": [
        "> **Conclusión:** La eliminación de datos duplicados es una parte esencial de casi todos los proyectos de ciencia de datos. Los datos duplicados pueden cambiar los resultados de sus análisis y darle resultados inexactos."
      ]
    }
  ],
  "metadata": {
    "anaconda-cloud": {},
    "colab": {
      "name": "notebook.ipynb",
      "provenance": []
    },
    "kernelspec": {
      "display_name": "Python 3",
      "language": "python",
      "name": "python3"
    },
    "language_info": {
      "codemirror_mode": {
        "name": "ipython",
        "version": 3
      },
      "file_extension": ".py",
      "mimetype": "text/x-python",
      "name": "python",
      "nbconvert_exporter": "python",
      "pygments_lexer": "ipython3",
      "version": "3.11.5"
    }
  },
  "nbformat": 4,
  "nbformat_minor": 0
}
